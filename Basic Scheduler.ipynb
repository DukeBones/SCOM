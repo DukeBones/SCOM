{
 "cells": [
  {
   "cell_type": "markdown",
   "metadata": {},
   "source": [
    "OM 522 08/27/24 In Class"
   ]
  },
  {
   "cell_type": "code",
   "execution_count": 1,
   "metadata": {},
   "outputs": [],
   "source": [
    "#Setup and Import Files\n",
    "\n",
    "import pandas as pd\n",
    "\n",
    "#Path to folder with relevant files\n",
    "file_path = 'C:/Users/laj11/Desktop/Bama/Fall 2024/OM 522/'\n",
    "\n",
    "#Name of files being loaded\n",
    "file_name_1 = 'job_data.csv'\n",
    "\n",
    "#Load Files\n",
    "job_data = pd.read_csv(file_path+file_name_1)"
   ]
  },
  {
   "cell_type": "code",
   "execution_count": 2,
   "metadata": {},
   "outputs": [],
   "source": [
    "#Create new columns of data\n",
    "job_data['wj/pj'] = job_data['wj'] / job_data['pj'] # Weighted time by procesing time"
   ]
  },
  {
   "cell_type": "code",
   "execution_count": 3,
   "metadata": {},
   "outputs": [],
   "source": [
    "job_data = job_data.set_index('j') #Set index to the j of the dataframe"
   ]
  },
  {
   "cell_type": "code",
   "execution_count": 4,
   "metadata": {},
   "outputs": [
    {
     "name": "stdout",
     "output_type": "stream",
     "text": [
      " -At time 1, there are no jobs to schedule\n",
      " -At time 7.91, schedule job 3\n",
      " -At time 19.15, schedule job 5\n",
      " -At time 26.88, schedule job 17\n",
      " -At time 38.31, schedule job 2\n",
      " -At time 48.53, schedule job 8\n",
      " -At time 56.6, schedule job 13\n",
      " -At time 64.44, schedule job 20\n",
      " -At time 74.45, schedule job 9\n",
      " -At time 84.10000000000001, schedule job 10\n",
      " -At time 96.76, schedule job 1\n",
      " -At time 106.74000000000001, schedule job 4\n",
      " -At time 117.61000000000001, schedule job 11\n",
      " -At time 128.5, schedule job 16\n",
      " -At time 138.77, schedule job 18\n",
      " -At time 147.33, schedule job 6\n",
      " -At time 159.74, schedule job 12\n",
      " -At time 170.20000000000002, schedule job 15\n",
      " -At time 180.73000000000002, schedule job 7\n",
      " -At time 192.79000000000002, schedule job 14\n",
      " -At time 205.76000000000002, schedule job 19\n"
     ]
    },
    {
     "name": "stderr",
     "output_type": "stream",
     "text": [
      "C:\\Users\\laj11\\AppData\\Local\\Temp\\ipykernel_26068\\3936344876.py:18: UserWarning: Boolean Series key will be reindexed to match DataFrame index.\n",
      "  if len(unscheduled_job_data[time_filter]) == 0:\n",
      "C:\\Users\\laj11\\AppData\\Local\\Temp\\ipykernel_26068\\3936344876.py:18: UserWarning: Boolean Series key will be reindexed to match DataFrame index.\n",
      "  if len(unscheduled_job_data[time_filter]) == 0:\n",
      "C:\\Users\\laj11\\AppData\\Local\\Temp\\ipykernel_26068\\3936344876.py:18: UserWarning: Boolean Series key will be reindexed to match DataFrame index.\n",
      "  if len(unscheduled_job_data[time_filter]) == 0:\n",
      "C:\\Users\\laj11\\AppData\\Local\\Temp\\ipykernel_26068\\3936344876.py:18: UserWarning: Boolean Series key will be reindexed to match DataFrame index.\n",
      "  if len(unscheduled_job_data[time_filter]) == 0:\n",
      "C:\\Users\\laj11\\AppData\\Local\\Temp\\ipykernel_26068\\3936344876.py:18: UserWarning: Boolean Series key will be reindexed to match DataFrame index.\n",
      "  if len(unscheduled_job_data[time_filter]) == 0:\n",
      "C:\\Users\\laj11\\AppData\\Local\\Temp\\ipykernel_26068\\3936344876.py:18: UserWarning: Boolean Series key will be reindexed to match DataFrame index.\n",
      "  if len(unscheduled_job_data[time_filter]) == 0:\n",
      "C:\\Users\\laj11\\AppData\\Local\\Temp\\ipykernel_26068\\3936344876.py:18: UserWarning: Boolean Series key will be reindexed to match DataFrame index.\n",
      "  if len(unscheduled_job_data[time_filter]) == 0:\n",
      "C:\\Users\\laj11\\AppData\\Local\\Temp\\ipykernel_26068\\3936344876.py:18: UserWarning: Boolean Series key will be reindexed to match DataFrame index.\n",
      "  if len(unscheduled_job_data[time_filter]) == 0:\n",
      "C:\\Users\\laj11\\AppData\\Local\\Temp\\ipykernel_26068\\3936344876.py:18: UserWarning: Boolean Series key will be reindexed to match DataFrame index.\n",
      "  if len(unscheduled_job_data[time_filter]) == 0:\n",
      "C:\\Users\\laj11\\AppData\\Local\\Temp\\ipykernel_26068\\3936344876.py:18: UserWarning: Boolean Series key will be reindexed to match DataFrame index.\n",
      "  if len(unscheduled_job_data[time_filter]) == 0:\n",
      "C:\\Users\\laj11\\AppData\\Local\\Temp\\ipykernel_26068\\3936344876.py:18: UserWarning: Boolean Series key will be reindexed to match DataFrame index.\n",
      "  if len(unscheduled_job_data[time_filter]) == 0:\n",
      "C:\\Users\\laj11\\AppData\\Local\\Temp\\ipykernel_26068\\3936344876.py:18: UserWarning: Boolean Series key will be reindexed to match DataFrame index.\n",
      "  if len(unscheduled_job_data[time_filter]) == 0:\n",
      "C:\\Users\\laj11\\AppData\\Local\\Temp\\ipykernel_26068\\3936344876.py:18: UserWarning: Boolean Series key will be reindexed to match DataFrame index.\n",
      "  if len(unscheduled_job_data[time_filter]) == 0:\n",
      "C:\\Users\\laj11\\AppData\\Local\\Temp\\ipykernel_26068\\3936344876.py:18: UserWarning: Boolean Series key will be reindexed to match DataFrame index.\n",
      "  if len(unscheduled_job_data[time_filter]) == 0:\n",
      "C:\\Users\\laj11\\AppData\\Local\\Temp\\ipykernel_26068\\3936344876.py:18: UserWarning: Boolean Series key will be reindexed to match DataFrame index.\n",
      "  if len(unscheduled_job_data[time_filter]) == 0:\n",
      "C:\\Users\\laj11\\AppData\\Local\\Temp\\ipykernel_26068\\3936344876.py:18: UserWarning: Boolean Series key will be reindexed to match DataFrame index.\n",
      "  if len(unscheduled_job_data[time_filter]) == 0:\n",
      "C:\\Users\\laj11\\AppData\\Local\\Temp\\ipykernel_26068\\3936344876.py:18: UserWarning: Boolean Series key will be reindexed to match DataFrame index.\n",
      "  if len(unscheduled_job_data[time_filter]) == 0:\n",
      "C:\\Users\\laj11\\AppData\\Local\\Temp\\ipykernel_26068\\3936344876.py:18: UserWarning: Boolean Series key will be reindexed to match DataFrame index.\n",
      "  if len(unscheduled_job_data[time_filter]) == 0:\n",
      "C:\\Users\\laj11\\AppData\\Local\\Temp\\ipykernel_26068\\3936344876.py:18: UserWarning: Boolean Series key will be reindexed to match DataFrame index.\n",
      "  if len(unscheduled_job_data[time_filter]) == 0:\n"
     ]
    }
   ],
   "source": [
    "scheduled_jobs = []\n",
    "all_jobs = job_data.index.to_list()\n",
    "unscheduled_jobs = set(all_jobs) - set(scheduled_jobs)\n",
    "unscheduled_job_filter = job_data.index.isin(unscheduled_jobs)\n",
    "unscheduled_job_data = job_data[unscheduled_job_filter]\n",
    "\n",
    "weighted_completion_time = 0\n",
    "current_time = 0\n",
    "completion_times = {}\n",
    "\n",
    "#print(unscheduled_jobs, len(unscheduled_jobs))\n",
    "\n",
    "while unscheduled_jobs:\n",
    "\n",
    "    time_filter = job_data['rj'] <= current_time\n",
    "\n",
    "\n",
    "    if len(unscheduled_job_data[time_filter]) == 0:\n",
    "        \n",
    "        current_time += job_data['rj'].min()\n",
    "        print(f' -At time {current_time}, there are no jobs to schedule')\n",
    "\n",
    "    else:\n",
    "        \n",
    "        selected_job = unscheduled_job_data.loc[time_filter, 'wj/pj'].idxmax()\n",
    "        current_time += unscheduled_job_data.loc[selected_job, 'pj']\n",
    "\n",
    "        completion_times[selected_job] = current_time\n",
    "\n",
    "        scheduled_jobs.append(selected_job)\n",
    "        unscheduled_jobs = set(all_jobs) - set(scheduled_jobs)\n",
    "        unscheduled_jobs = list(unscheduled_jobs)\n",
    "\n",
    "        unscheduled_job_filter = job_data.index.isin(unscheduled_jobs)\n",
    "        unscheduled_job_data = job_data[unscheduled_job_filter]\n",
    "\n",
    "        weighted_completion_time += current_time * job_data.loc[selected_job, 'wj']\n",
    "\n",
    "        print(f' -At time {current_time}, schedule job {selected_job}')\n",
    "\n",
    "\n",
    "    #print(current_time)\n",
    "\n"
   ]
  },
  {
   "cell_type": "code",
   "execution_count": 5,
   "metadata": {},
   "outputs": [
    {
     "name": "stdout",
     "output_type": "stream",
     "text": [
      " Final Schedule of Jobs: [3, 5, 17, 2, 8, 13, 20, 9, 10, 1, 4, 11, 16, 18, 6, 12, 15, 7, 14, 19] \n",
      " Minimal weighted completion time 3643.1474000000007\n",
      "{3: 7.91, 5: 19.15, 17: 26.88, 2: 38.31, 8: 48.53, 13: 56.6, 20: 64.44, 9: 74.45, 10: 84.10000000000001, 1: 96.76, 4: 106.74000000000001, 11: 117.61000000000001, 16: 128.5, 18: 138.77, 6: 147.33, 12: 159.74, 15: 170.20000000000002, 7: 180.73000000000002, 14: 192.79000000000002, 19: 205.76000000000002}\n"
     ]
    }
   ],
   "source": [
    "#Display final schedule\n",
    "print(f' Final Schedule of Jobs: {scheduled_jobs} \\n Minimal weighted completion time {weighted_completion_time}')\n",
    "print(completion_times)"
   ]
  }
 ],
 "metadata": {
  "kernelspec": {
   "display_name": "Python 3",
   "language": "python",
   "name": "python3"
  },
  "language_info": {
   "codemirror_mode": {
    "name": "ipython",
    "version": 3
   },
   "file_extension": ".py",
   "mimetype": "text/x-python",
   "name": "python",
   "nbconvert_exporter": "python",
   "pygments_lexer": "ipython3",
   "version": "3.12.3"
  }
 },
 "nbformat": 4,
 "nbformat_minor": 2
}
