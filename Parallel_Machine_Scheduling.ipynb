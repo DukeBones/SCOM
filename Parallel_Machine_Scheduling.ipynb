{
 "cells": [
  {
   "cell_type": "markdown",
   "id": "92c335fe-7060-4be5-8a71-50d0af1a5330",
   "metadata": {},
   "source": [
    "# Introduction to Parallel Machine Scheduling\n",
    "\n",
    "Parallel machine scheduling is a fundamental area in operations research and computer science, focusing on the allocation of jobs to multiple machines running in parallel. The objective is typically to optimize certain performance metrics, such as minimizing the total completion time (makespan), reducing job tardiness, or balancing the workload among machines.\n",
    "\n",
    "## Types of Parallel Machine Environments\n",
    " - Identical Machines ($P_{m}$): All machines have the same processing capabilities. A job takes the same amount of time on any machine.\n",
    " - Uniform Machines ($Q_{m}$): Machines have different speeds. A job's processing time varies inversely with the machine's speed.\n",
    " - Unrelated Machines ($R_{m}$): Processing times vary arbitrarily for each machine-job pair due to differing capabilities or efficiencies.\n",
    "\n",
    "## Objectives in Scheduling\n",
    " - Makespan Minimization ($C_{max}$): Minimize the total time to complete all jobs.\n",
    " - Sum of Job Completion Times ($\\sum C_{j}$): Minimize the sum of completion times for all jobs.\n",
    " - Tardiness- and Lateness- related objectives: Ensure jobs meet their due dates.\n",
    " - Load Balancing: Distribute workloads evenly across machines.\n",
    "\n",
    "## Applications\n",
    " - Manufacturing systems\n",
    " - Cloud computing and data centers\n",
    " - Project management\n",
    " - Transportation and logistics\n",
    "\n",
    "\n",
    "The following code block imports some libraries we will use to demonstrate key concepts and scheduling techniques."
   ]
  },
  {
   "cell_type": "code",
   "execution_count": 1,
   "id": "61897304-6c9c-4d58-ae21-b430d7525fe6",
   "metadata": {},
   "outputs": [],
   "source": [
    "import matplotlib.pyplot as plt\n",
    "import numpy as np\n",
    "import pandas as pd\n",
    "import seaborn as sns"
   ]
  },
  {
   "cell_type": "markdown",
   "id": "29c092e6-2041-48dc-a044-1a6326d5074d",
   "metadata": {},
   "source": [
    "The following code block defines a function for creating a Gantt chart from a dictionary specifying details of the schedule (more information on the structure of this dictionary later)."
   ]
  },
  {
   "cell_type": "code",
   "execution_count": 2,
   "id": "b9d0b904-21da-46f1-91cb-e45bff0ddc6b",
   "metadata": {},
   "outputs": [],
   "source": [
    "def make_gantt_chart(schedule_details_dict):\n",
    "\n",
    "    import matplotlib.pyplot as plt\n",
    "    \n",
    "    fig, ax = plt.subplots(1, 1, figsize=(8, 3))\n",
    "    \n",
    "    for machine in schedule_details_dict:\n",
    "        for job in schedule_details_dict[machine]:\n",
    "            start_time = schedule_details_dict[machine][job]['start_time']\n",
    "            completion_time = schedule_details_dict[machine][job]['completion_time']\n",
    "            length = completion_time - start_time\n",
    "            ax.barh(\n",
    "                machine, \n",
    "                length,\n",
    "                left=start_time, \n",
    "                edgecolor='black',\n",
    "            )\n",
    "            ax.text(\n",
    "                start_time + length/2,\n",
    "                machine,\n",
    "                job,\n",
    "                va='center',\n",
    "                ha='center',\n",
    "                color='k',\n",
    "            )\n",
    "        ax.spines[['right', 'top']].set_visible(False)\n",
    "    \n",
    "    ax.set_xlabel('Time')\n",
    "    ax.set_ylabel('Machines')\n",
    "    ax.set_title('Gantt Chart')\n",
    "    plt.show()"
   ]
  },
  {
   "cell_type": "markdown",
   "id": "f5b7d45c-cbbb-4ac5-a82a-88b7d8de37c2",
   "metadata": {},
   "source": [
    "# Scheduling with Identical Machines ($P_{m}$)\n",
    "In this setting, all machines are identical, and a job's processing time is the same on any machine. This simplifies the problem.\n",
    "\n",
    "## List Scheduling\n",
    "\n",
    "Approach: Assign jobs to machines in the order they appear, always selecting the machine that becomes available first.\n",
    "Objective: Minimize makespan by greedily assigning jobs to the earliest available machine.\n",
    "\n",
    "Algorithm Steps\n",
    "1. Initialize Machines: Set the ready time of each machine to 0.\n",
    "2. Assign Jobs:\n",
    " - For each job in the list:\n",
    "   - Select the machine with the earliest ready time.\n",
    "   - Assign the job to this machine.\n",
    "   - Update the machine's ready time by adding the job's processing time.\n",
    "\n",
    "The makespan is the maximum of all machines' ready times after scheduling.\n",
    "\n",
    "For identical machines, the List Scheduling algorithm guarantees a makespan no more than $\\displaystyle \\left(2 - \\frac{1}{m}\\right)OPT$, where OPT is the optimal makespan.\n",
    "\n",
    "The following code block creates a DataFrame with some sample data."
   ]
  },
  {
   "cell_type": "code",
   "execution_count": 3,
   "id": "d5f57e6b-64cd-4f07-8ee7-510803955a69",
   "metadata": {},
   "outputs": [],
   "source": [
    "jobs = 20\n",
    "\n",
    "np.random.seed(42)\n",
    "\n",
    "random_pj_values = np.random.randint(low=5, high=30, size=jobs)\n",
    "random_pj_values.sort()\n",
    "PM_data = [{'j': f'J{idx}', 'pj': int(val)} for idx, val in enumerate(random_pj_values, 1)]\n",
    "PM_data = pd.DataFrame(PM_data)\n",
    "PM_data = PM_data.set_index('j')"
   ]
  },
  {
   "cell_type": "markdown",
   "id": "3952a6b3-f173-4c8b-8069-9b56751ac733",
   "metadata": {},
   "source": [
    "The following code block defines the list scheduling procedure."
   ]
  },
  {
   "cell_type": "code",
   "execution_count": 4,
   "id": "29b55c5e-b3f8-4b65-8bbb-fa603de08729",
   "metadata": {},
   "outputs": [],
   "source": [
    "number_of_machines = 4\n",
    "\n",
    "schedules = {}\n",
    "for machine_idx in range(1, number_of_machines+1):\n",
    "    schedules[f'M{machine_idx}'] = {'ready_time': 0, 'schedule': []}\n",
    "\n",
    "for job in PM_data.index:\n",
    "    sorted_machines = sorted(schedules.items(), key=lambda x: x[1]['ready_time'])\n",
    "    selected_machine = sorted_machines[0][0]\n",
    "    \n",
    "    start_time = schedules[selected_machine]['ready_time']\n",
    "    completion_time = start_time + PM_data.loc[job, 'pj']\n",
    "    schedules[selected_machine]['schedule'].append(job)\n",
    "    schedules[selected_machine]['ready_time'] = completion_time"
   ]
  },
  {
   "cell_type": "markdown",
   "id": "02265e8b-1d7b-4000-8fac-8ee9a1fb1fa2",
   "metadata": {},
   "source": [
    "The following code block creates a dictionary of schedule details"
   ]
  },
  {
   "cell_type": "code",
   "execution_count": 5,
   "id": "39a38ecc-c111-42aa-aa02-f397393bba52",
   "metadata": {},
   "outputs": [],
   "source": [
    "schedule_details = {}\n",
    "for machine in schedules:\n",
    "    machine_schedule = schedules[machine]['schedule']\n",
    "    start_time = 0\n",
    "    machine_details = {}\n",
    "    for job in machine_schedule:\n",
    "        completion_time = start_time + PM_data.loc[job, 'pj']\n",
    "        machine_details[job] = {\n",
    "            'start_time': start_time,\n",
    "            'completion_time': completion_time,\n",
    "        }\n",
    "        start_time = completion_time\n",
    "    schedule_details[machine] = machine_details"
   ]
  },
  {
   "cell_type": "markdown",
   "id": "a3a93493-412d-4c66-b6a0-1af65984c2f2",
   "metadata": {},
   "source": [
    "The following code block creates a Gantt chart based on the schedule details."
   ]
  },
  {
   "cell_type": "code",
   "execution_count": 6,
   "id": "6cb8ce02-ecd8-472f-a59c-5d0169a59a67",
   "metadata": {},
   "outputs": [
    {
     "data": {
      "image/png": "[encoded data removed]",
      "text/plain": [
       "<Figure size 800x300 with 1 Axes>"
      ]
     },
     "metadata": {},
     "output_type": "display_data"
    }
   ],
   "source": [
    "make_gantt_chart(schedule_details)"
   ]
  },
  {
   "cell_type": "markdown",
   "id": "d120cbd2-daa8-401b-be3e-7baf370d98ad",
   "metadata": {},
   "source": [
    "We will now look at what happens if we sort the jobs in decreasing order of processing times (Longest Processing Time rule) before applying the list scheduling algorithm. The following code block applies the LPT sort to the PM_data."
   ]
  },
  {
   "cell_type": "code",
   "execution_count": 7,
   "id": "260a2842-18c5-4cfb-a2fc-bc37e0c90182",
   "metadata": {},
   "outputs": [],
   "source": [
    "PM_data = PM_data.sort_values('pj', ascending=False)"
   ]
  },
  {
   "cell_type": "markdown",
   "id": "8b7370c5-fec0-4f2a-b1f3-a7fd8432a74d",
   "metadata": {},
   "source": [
    "The following code block applies the list scheduling procedure to the sorted jobs."
   ]
  },
  {
   "cell_type": "code",
   "execution_count": 8,
   "id": "ef87eb18-47e3-4ae9-bda1-d035fdfd8734",
   "metadata": {},
   "outputs": [],
   "source": [
    "number_of_machines = 4\n",
    "\n",
    "schedules = {}\n",
    "for machine_idx in range(1, number_of_machines+1):\n",
    "    schedules[f'M{machine_idx}'] = {'ready_time': 0, 'schedule': []}\n",
    "\n",
    "for job in PM_data.index:\n",
    "    sorted_machines = sorted(schedules.items(), key=lambda x: x[1]['ready_time'])\n",
    "    selected_machine = sorted_machines[0][0]\n",
    "    \n",
    "    start_time = schedules[selected_machine]['ready_time']\n",
    "    completion_time = start_time + PM_data.loc[job, 'pj']\n",
    "    schedules[selected_machine]['schedule'].append(job)\n",
    "    schedules[selected_machine]['ready_time'] = completion_time"
   ]
  },
  {
   "cell_type": "markdown",
   "id": "0ac8a10a-4cf4-4233-a1b9-a5ed074da3bb",
   "metadata": {},
   "source": [
    "The following code block creates the schedule details object."
   ]
  },
  {
   "cell_type": "code",
   "execution_count": 9,
   "id": "e3eb0d55-97e1-4346-9226-f5e0010b9e36",
   "metadata": {},
   "outputs": [],
   "source": [
    "schedule_details = {}\n",
    "for machine in schedules:\n",
    "    machine_schedule = schedules[machine]['schedule']\n",
    "    start_time = 0\n",
    "    machine_details = {}\n",
    "    for job in machine_schedule:\n",
    "        completion_time = start_time + PM_data.loc[job, 'pj']\n",
    "        machine_details[job] = {\n",
    "            'start_time': start_time,\n",
    "            'completion_time': completion_time,\n",
    "        }\n",
    "        start_time = completion_time\n",
    "    schedule_details[machine] = machine_details"
   ]
  },
  {
   "cell_type": "markdown",
   "id": "88d63967-59d2-46ed-96e3-590a2031cabb",
   "metadata": {},
   "source": [
    "The following code block plots the Gantt chart."
   ]
  },
  {
   "cell_type": "code",
   "execution_count": 10,
   "id": "8a4b192a-f14d-4660-9fd7-8ef31a63cc8d",
   "metadata": {},
   "outputs": [
    {
     "data": {
      "image/png": "[encoded data removed]",
      "text/plain": [
       "<Figure size 800x300 with 1 Axes>"
      ]
     },
     "metadata": {},
     "output_type": "display_data"
    }
   ],
   "source": [
    "make_gantt_chart(schedule_details)"
   ]
  },
  {
   "cell_type": "markdown",
   "id": "35b8a7ca-d573-4ab4-94ee-534772e0c8aa",
   "metadata": {},
   "source": [
    "# Scheduling with Uniform Machines ($Q_{m}$)\n",
    "In this setting, each job requires a fixed amount of work, and the machines vary in the amount of work they can perform per unit of time. In other words, machines have different speeds.\n",
    "\n",
    "The following code block generates some sample data for a uniform parallel machine environment. The speed of the machine, i.e., units of work that can be performed per unit of time, is the same as its index. For example, machine 1 can perform 1 unit of work per unit time, machine 2 can perform 2 units of work per unit time, etc."
   ]
  },
  {
   "cell_type": "code",
   "execution_count": 11,
   "id": "a61e244c-7cd6-4493-8b39-d7503355d428",
   "metadata": {},
   "outputs": [
    {
     "data": {
      "text/html": [
       "<div>\n",
       "<style scoped>\n",
       "    .dataframe tbody tr th:only-of-type {\n",
       "        vertical-align: middle;\n",
       "    }\n",
       "\n",
       "    .dataframe tbody tr th {\n",
       "        vertical-align: top;\n",
       "    }\n",
       "\n",
       "    .dataframe thead th {\n",
       "        text-align: right;\n",
       "    }\n",
       "</style>\n",
       "<table border=\"1\" class=\"dataframe\">\n",
       "  <thead>\n",
       "    <tr style=\"text-align: right;\">\n",
       "      <th></th>\n",
       "      <th>work</th>\n",
       "      <th>M1</th>\n",
       "      <th>M2</th>\n",
       "      <th>M3</th>\n",
       "      <th>M4</th>\n",
       "    </tr>\n",
       "    <tr>\n",
       "      <th>j</th>\n",
       "      <th></th>\n",
       "      <th></th>\n",
       "      <th></th>\n",
       "      <th></th>\n",
       "      <th></th>\n",
       "    </tr>\n",
       "  </thead>\n",
       "  <tbody>\n",
       "    <tr>\n",
       "      <th>J1</th>\n",
       "      <td>16</td>\n",
       "      <td>16.0</td>\n",
       "      <td>8.0</td>\n",
       "      <td>5.333333</td>\n",
       "      <td>4.00</td>\n",
       "    </tr>\n",
       "    <tr>\n",
       "      <th>J2</th>\n",
       "      <td>29</td>\n",
       "      <td>29.0</td>\n",
       "      <td>14.5</td>\n",
       "      <td>9.666667</td>\n",
       "      <td>7.25</td>\n",
       "    </tr>\n",
       "    <tr>\n",
       "      <th>J3</th>\n",
       "      <td>24</td>\n",
       "      <td>24.0</td>\n",
       "      <td>12.0</td>\n",
       "      <td>8.000000</td>\n",
       "      <td>6.00</td>\n",
       "    </tr>\n",
       "    <tr>\n",
       "      <th>J4</th>\n",
       "      <td>20</td>\n",
       "      <td>20.0</td>\n",
       "      <td>10.0</td>\n",
       "      <td>6.666667</td>\n",
       "      <td>5.00</td>\n",
       "    </tr>\n",
       "    <tr>\n",
       "      <th>J5</th>\n",
       "      <td>17</td>\n",
       "      <td>17.0</td>\n",
       "      <td>8.5</td>\n",
       "      <td>5.666667</td>\n",
       "      <td>4.25</td>\n",
       "    </tr>\n",
       "  </tbody>\n",
       "</table>\n",
       "</div>"
      ],
      "text/plain": [
       "    work    M1    M2        M3    M4\n",
       "j                                   \n",
       "J1    16  16.0   8.0  5.333333  4.00\n",
       "J2    29  29.0  14.5  9.666667  7.25\n",
       "J3    24  24.0  12.0  8.000000  6.00\n",
       "J4    20  20.0  10.0  6.666667  5.00\n",
       "J5    17  17.0   8.5  5.666667  4.25"
      ]
     },
     "execution_count": 11,
     "metadata": {},
     "output_type": "execute_result"
    }
   ],
   "source": [
    "jobs = 20\n",
    "number_of_machines = 4\n",
    "\n",
    "np.random.seed(42)\n",
    "\n",
    "random_work_values = np.random.randint(low=10, high=31, size=jobs)\n",
    "QM_data = [{'j': f'J{idx}', 'work': int(val)} for idx, val in enumerate(random_work_values, 1)]\n",
    "QM_data = pd.DataFrame(QM_data)\n",
    "QM_data = QM_data.set_index('j')\n",
    "\n",
    "machine_speeds = {f'M{i}': i for i in range(1, number_of_machines+1)}\n",
    "for machine, speed in machine_speeds.items():\n",
    "    QM_data[machine] = QM_data['work']/speed\n",
    "\n",
    "QM_data.head()"
   ]
  },
  {
   "cell_type": "markdown",
   "id": "0d50950d-500c-44b7-801b-a3019898b46c",
   "metadata": {},
   "source": [
    "Since the ordering of jobs from shortest to longest will be the same on any machine, we can sort by the processing time on any machine to get an LPT sort. The following code block sorts by the processing times on machine M1."
   ]
  },
  {
   "cell_type": "code",
   "execution_count": 12,
   "id": "dea84153-d583-422e-b17d-58ab7d24b933",
   "metadata": {},
   "outputs": [],
   "source": [
    "QM_data = QM_data.sort_values(\n",
    "    'M1',\n",
    "    ascending=False,\n",
    ")"
   ]
  },
  {
   "cell_type": "markdown",
   "id": "dd1e32dd-a4da-4a9c-8ece-371888f9ada5",
   "metadata": {},
   "source": [
    "The following code block uses a list scheduling approach that is modified to schedule jobs to the machine where they will complete the earliest."
   ]
  },
  {
   "cell_type": "code",
   "execution_count": 13,
   "id": "20645d82-e919-4fae-a7cc-4c4ad6c544de",
   "metadata": {},
   "outputs": [
    {
     "data": {
      "text/plain": [
       "{'M1': {'ready_time': np.float64(39.0), 'schedule': ['J3', 'J18']},\n",
       " 'M2': {'ready_time': np.float64(40.0),\n",
       "  'schedule': ['J11', 'J17', 'J13', 'J14']},\n",
       " 'M3': {'ready_time': np.float64(41.0),\n",
       "  'schedule': ['J20', 'J2', 'J10', 'J5', 'J7', 'J16']},\n",
       " 'M4': {'ready_time': np.float64(42.0),\n",
       "  'schedule': ['J15', 'J6', 'J8', 'J4', 'J9', 'J1', 'J12', 'J19']}}"
      ]
     },
     "execution_count": 13,
     "metadata": {},
     "output_type": "execute_result"
    }
   ],
   "source": [
    "number_of_machines = 4\n",
    "\n",
    "schedules = {}\n",
    "for machine_idx in range(1, number_of_machines+1):\n",
    "    schedules[f'M{machine_idx}'] = {'ready_time': 0, 'schedule': []}\n",
    "\n",
    "for job in QM_data.index:\n",
    "    sorted_machines = sorted(\n",
    "        schedules.items(), \n",
    "        key=lambda x: x[1]['ready_time'] + QM_data.loc[job, x[0]]\n",
    "    )\n",
    "    selected_machine = sorted_machines[0][0]\n",
    "    \n",
    "    start_time = schedules[selected_machine]['ready_time']\n",
    "    completion_time = start_time + QM_data.loc[job, selected_machine]\n",
    "    schedules[selected_machine]['schedule'].append(job)\n",
    "    schedules[selected_machine]['ready_time'] = completion_time\n",
    "schedules"
   ]
  },
  {
   "cell_type": "markdown",
   "id": "66873c34-a802-4dd1-8a4b-5704724586a5",
   "metadata": {},
   "source": [
    "The following code block uses the schedules determined in the previous cell to construct the `schedule_details` dictionary that can be used to generate a Gantt chart."
   ]
  },
  {
   "cell_type": "code",
   "execution_count": 14,
   "id": "2c58bc4f-ce1f-49e8-8e3a-529811a836fd",
   "metadata": {},
   "outputs": [],
   "source": [
    "schedule_details = {}\n",
    "for machine in schedules:\n",
    "    machine_schedule = schedules[machine]['schedule']\n",
    "    start_time = 0\n",
    "    machine_details = {}\n",
    "    for job in machine_schedule:\n",
    "        completion_time = start_time + QM_data.loc[job, machine]\n",
    "        machine_details[job] = {\n",
    "            'start_time': start_time,\n",
    "            'completion_time': completion_time,\n",
    "        }\n",
    "        start_time = completion_time\n",
    "    schedule_details[machine] = machine_details"
   ]
  },
  {
   "cell_type": "markdown",
   "id": "52811418-1af9-49b2-bc10-107eff0222e0",
   "metadata": {},
   "source": [
    "The following code block generates the Gantt chart"
   ]
  },
  {
   "cell_type": "code",
   "execution_count": 15,
   "id": "77b51018-ac1e-40c8-b5be-5d88778a420a",
   "metadata": {},
   "outputs": [
    {
     "data": {
      "image/png": "[encoded data removed]",
      "text/plain": [
       "<Figure size 800x300 with 1 Axes>"
      ]
     },
     "metadata": {},
     "output_type": "display_data"
    }
   ],
   "source": [
    "make_gantt_chart(schedule_details)"
   ]
  },
  {
   "cell_type": "markdown",
   "id": "685cec6e-4231-4900-a2ca-e701667ae7fb",
   "metadata": {},
   "source": [
    "# Scheduling with Unrelated Machines ($R_{m}$)\n",
    "In this setting, processing times vary by job/machine combination. The following code block generates some sample data for an unrelated parallel machine environment."
   ]
  },
  {
   "cell_type": "code",
   "execution_count": 16,
   "id": "2b6a3feb-ccc1-4aba-b46d-983bf453d190",
   "metadata": {},
   "outputs": [
    {
     "data": {
      "text/html": [
       "<div>\n",
       "<style scoped>\n",
       "    .dataframe tbody tr th:only-of-type {\n",
       "        vertical-align: middle;\n",
       "    }\n",
       "\n",
       "    .dataframe tbody tr th {\n",
       "        vertical-align: top;\n",
       "    }\n",
       "\n",
       "    .dataframe thead th {\n",
       "        text-align: right;\n",
       "    }\n",
       "</style>\n",
       "<table border=\"1\" class=\"dataframe\">\n",
       "  <thead>\n",
       "    <tr style=\"text-align: right;\">\n",
       "      <th></th>\n",
       "      <th>M1</th>\n",
       "      <th>M2</th>\n",
       "      <th>M3</th>\n",
       "      <th>M4</th>\n",
       "    </tr>\n",
       "  </thead>\n",
       "  <tbody>\n",
       "    <tr>\n",
       "      <th>J1</th>\n",
       "      <td>16</td>\n",
       "      <td>29</td>\n",
       "      <td>24</td>\n",
       "      <td>20</td>\n",
       "    </tr>\n",
       "    <tr>\n",
       "      <th>J2</th>\n",
       "      <td>17</td>\n",
       "      <td>30</td>\n",
       "      <td>16</td>\n",
       "      <td>28</td>\n",
       "    </tr>\n",
       "    <tr>\n",
       "      <th>J3</th>\n",
       "      <td>20</td>\n",
       "      <td>20</td>\n",
       "      <td>30</td>\n",
       "      <td>13</td>\n",
       "    </tr>\n",
       "    <tr>\n",
       "      <th>J4</th>\n",
       "      <td>17</td>\n",
       "      <td>12</td>\n",
       "      <td>30</td>\n",
       "      <td>11</td>\n",
       "    </tr>\n",
       "    <tr>\n",
       "      <th>J5</th>\n",
       "      <td>21</td>\n",
       "      <td>15</td>\n",
       "      <td>11</td>\n",
       "      <td>30</td>\n",
       "    </tr>\n",
       "  </tbody>\n",
       "</table>\n",
       "</div>"
      ],
      "text/plain": [
       "    M1  M2  M3  M4\n",
       "J1  16  29  24  20\n",
       "J2  17  30  16  28\n",
       "J3  20  20  30  13\n",
       "J4  17  12  30  11\n",
       "J5  21  15  11  30"
      ]
     },
     "execution_count": 16,
     "metadata": {},
     "output_type": "execute_result"
    }
   ],
   "source": [
    "jobs = 20\n",
    "number_of_machines = 4\n",
    "\n",
    "np.random.seed(42)\n",
    "\n",
    "random_pj_values = np.random.randint(low=10, high=31, size=(jobs, number_of_machines))\n",
    "\n",
    "RM_data = pd.DataFrame(\n",
    "    random_pj_values,\n",
    "    columns=[f'M{idx}' for idx in range(1, number_of_machines + 1)],\n",
    "    index=[f'J{idx}' for idx in range(1, jobs + 1)]\n",
    ")\n",
    "RM_data.head()"
   ]
  },
  {
   "cell_type": "markdown",
   "id": "80843d62-c6e8-4ab3-8645-38c8fead9e56",
   "metadata": {},
   "source": [
    "In an unrelated parallel machine enviroment, sorting the jobs in LPT order is not possible since the processing time varies by job and machine. In other words, a job that takes a long time on one machine may complete very quickly on another. Thus, we have options in howwe sort jobs. Some potential options are:\n",
    "- sort from longest mean processing time to shortest mean processing time\n",
    "- sort from longest max processing time to shortest max processing time\n",
    "\n",
    "We will consider both options. \n",
    "\n",
    "## Sorting Jobs by Mean Processing Time\n",
    "\n",
    "First, we will consider sorting the jobs by mean processing time."
   ]
  },
  {
   "cell_type": "code",
   "execution_count": 17,
   "id": "ec0547dd-467d-45a7-b0df-673536df0a4b",
   "metadata": {},
   "outputs": [],
   "source": [
    "RM_data['mean_pij'] = RM_data.mean(axis=1)\n",
    "\n",
    "RM_data = RM_data.sort_values(\n",
    "    'mean_pij',\n",
    "    ascending=False,\n",
    ")"
   ]
  },
  {
   "cell_type": "markdown",
   "id": "49796ab0-d7b8-4525-a2c3-25ede761fb9f",
   "metadata": {},
   "source": [
    "The following code block uses a list scheduling approach that is modified to schedule jobs to the machine where they will complete the earliest."
   ]
  },
  {
   "cell_type": "code",
   "execution_count": 18,
   "id": "b44a67d2-d83c-4d66-80c3-fda304bfdf59",
   "metadata": {},
   "outputs": [
    {
     "data": {
      "text/plain": [
       "{'M1': {'ready_time': np.int64(89),\n",
       "  'schedule': ['J19', 'J2', 'J9', 'J3', 'J6', 'J17']},\n",
       " 'M2': {'ready_time': np.int64(81), 'schedule': ['J7', 'J14', 'J16', 'J13']},\n",
       " 'M3': {'ready_time': np.int64(88),\n",
       "  'schedule': ['J11', 'J1', 'J12', 'J5', 'J15']},\n",
       " 'M4': {'ready_time': np.int64(81),\n",
       "  'schedule': ['J20', 'J8', 'J18', 'J10', 'J4']}}"
      ]
     },
     "execution_count": 18,
     "metadata": {},
     "output_type": "execute_result"
    }
   ],
   "source": [
    "number_of_machines = 4\n",
    "\n",
    "schedules = {}\n",
    "for machine_idx in range(1, number_of_machines+1):\n",
    "    schedules[f'M{machine_idx}'] = {'ready_time': 0, 'schedule': []}\n",
    "\n",
    "for job in RM_data.index:\n",
    "    sorted_machines = sorted(\n",
    "        schedules.items(), \n",
    "        key=lambda x: x[1]['ready_time'] + RM_data.loc[job, x[0]]\n",
    "    )\n",
    "    selected_machine = sorted_machines[0][0]\n",
    "    \n",
    "    start_time = schedules[selected_machine]['ready_time']\n",
    "    completion_time = start_time + RM_data.loc[job, selected_machine]\n",
    "    schedules[selected_machine]['schedule'].append(job)\n",
    "    schedules[selected_machine]['ready_time'] = completion_time\n",
    "schedules"
   ]
  },
  {
   "cell_type": "markdown",
   "id": "be808d91-9d68-4ef7-997a-1246c2ce9a9f",
   "metadata": {},
   "source": [
    "The following code block uses the schedules determined in the previous cell to construct the `schedule_details` dictionary that can be used to generate a Gantt chart."
   ]
  },
  {
   "cell_type": "code",
   "execution_count": 19,
   "id": "3a3deedc-74e9-4de4-98a8-57cbdff23e8d",
   "metadata": {},
   "outputs": [],
   "source": [
    "processing_time_data = RM_data.copy()\n",
    "\n",
    "schedule_details = {}\n",
    "for machine in schedules:\n",
    "    machine_schedule = schedules[machine]['schedule']\n",
    "    start_time = 0\n",
    "    machine_details = {}\n",
    "    for job in machine_schedule:\n",
    "        completion_time = start_time + RM_data.loc[job, machine]\n",
    "        machine_details[job] = {\n",
    "            'start_time': start_time,\n",
    "            'completion_time': completion_time,\n",
    "        }\n",
    "        start_time = completion_time\n",
    "    schedule_details[machine] = machine_details"
   ]
  },
  {
   "cell_type": "markdown",
   "id": "a1113742-66b8-4961-bd57-f18605f0b66d",
   "metadata": {},
   "source": [
    "The following code block generates the Gantt chart"
   ]
  },
  {
   "cell_type": "code",
   "execution_count": 20,
   "id": "58a60bc0-57ec-41e1-aae0-4422d8d5defe",
   "metadata": {},
   "outputs": [
    {
     "data": {
      "image/png": "[encoded data removed]",
      "text/plain": [
       "<Figure size 800x300 with 1 Axes>"
      ]
     },
     "metadata": {},
     "output_type": "display_data"
    }
   ],
   "source": [
    "make_gantt_chart(schedule_details)"
   ]
  },
  {
   "cell_type": "markdown",
   "id": "5e1d1f95-1d50-49cd-8d2c-325d5fd87ac5",
   "metadata": {},
   "source": [
    "## Sorting Job by Max Processing Time\n",
    "\n",
    "We will now consider sorting jobs by the max processing time"
   ]
  },
  {
   "cell_type": "code",
   "execution_count": 21,
   "id": "4963acac-38c5-4b8e-950c-da586be39aa1",
   "metadata": {},
   "outputs": [],
   "source": [
    "RM_data = RM_data.sort_index()\n",
    "RM_data['max_pij'] = RM_data.max(axis=1)\n",
    "\n",
    "RM_data = RM_data.sort_values(\n",
    "    'max_pij',\n",
    "    ascending=False,\n",
    ")"
   ]
  },
  {
   "cell_type": "markdown",
   "id": "14f06848-106c-4071-837a-94c93ec97158",
   "metadata": {},
   "source": [
    "The following code block uses a list scheduling approach that is modified to schedule jobs to the machine where they will complete the earliest."
   ]
  },
  {
   "cell_type": "code",
   "execution_count": 22,
   "id": "bde6d32c-6003-488f-89ee-4a5ea4bf63c8",
   "metadata": {},
   "outputs": [
    {
     "data": {
      "text/plain": [
       "{'M1': {'ready_time': np.int64(76),\n",
       "  'schedule': ['J2', 'J20', 'J12', 'J6', 'J17']},\n",
       " 'M2': {'ready_time': np.int64(81), 'schedule': ['J19', 'J8', 'J16', 'J13']},\n",
       " 'M3': {'ready_time': np.int64(86),\n",
       "  'schedule': ['J11', 'J5', 'J9', 'J14', 'J18', 'J15']},\n",
       " 'M4': {'ready_time': np.int64(81),\n",
       "  'schedule': ['J3', 'J4', 'J1', 'J10', 'J7']}}"
      ]
     },
     "execution_count": 22,
     "metadata": {},
     "output_type": "execute_result"
    }
   ],
   "source": [
    "number_of_machines = 4\n",
    "\n",
    "schedules = {}\n",
    "for machine_idx in range(1, number_of_machines+1):\n",
    "    schedules[f'M{machine_idx}'] = {'ready_time': 0, 'schedule': []}\n",
    "\n",
    "for job in RM_data.index:\n",
    "    sorted_machines = sorted(\n",
    "        schedules.items(), \n",
    "        key=lambda x: x[1]['ready_time'] + RM_data.loc[job, x[0]]\n",
    "    )\n",
    "    selected_machine = sorted_machines[0][0]\n",
    "    \n",
    "    start_time = schedules[selected_machine]['ready_time']\n",
    "    completion_time = start_time + RM_data.loc[job, selected_machine]\n",
    "    schedules[selected_machine]['schedule'].append(job)\n",
    "    schedules[selected_machine]['ready_time'] = completion_time\n",
    "schedules"
   ]
  },
  {
   "cell_type": "markdown",
   "id": "2237fbcb-febb-4d48-b9cf-40b160e6534f",
   "metadata": {},
   "source": [
    "The following code block uses the schedules determined in the previous cell to construct the `schedule_details` dictionary that can be used to generate a Gantt chart."
   ]
  },
  {
   "cell_type": "code",
   "execution_count": 23,
   "id": "e364d15f-5f5b-484d-ac28-0a3ea2072e45",
   "metadata": {},
   "outputs": [],
   "source": [
    "schedule_details = {}\n",
    "for machine in schedules:\n",
    "    machine_schedule = schedules[machine]['schedule']\n",
    "    start_time = 0\n",
    "    machine_details = {}\n",
    "    for job in machine_schedule:\n",
    "        completion_time = start_time + RM_data.loc[job, machine]\n",
    "        machine_details[job] = {\n",
    "            'start_time': start_time,\n",
    "            'completion_time': completion_time,\n",
    "        }\n",
    "        start_time = completion_time\n",
    "    schedule_details[machine] = machine_details"
   ]
  },
  {
   "cell_type": "markdown",
   "id": "b365f085-b02a-4fb3-ae61-8ed95d730623",
   "metadata": {},
   "source": [
    "The following code block generates the Gantt chart"
   ]
  },
  {
   "cell_type": "code",
   "execution_count": 24,
   "id": "3b3904b7-f259-4808-a898-f12ddeee08ba",
   "metadata": {},
   "outputs": [
    {
     "data": {
      "image/png": "[encoded data removed]",
      "text/plain": [
       "<Figure size 800x300 with 1 Axes>"
      ]
     },
     "metadata": {},
     "output_type": "display_data"
    }
   ],
   "source": [
    "make_gantt_chart(schedule_details)"
   ]
  },
  {
   "cell_type": "markdown",
   "id": "ed6b07f7-79ca-42d3-83b0-323da6630a51",
   "metadata": {},
   "source": [
    "# Incorporating Other Objectives\n",
    "\n",
    "The construction heuristics we have seen up to this point have largely focused on how to assign jobs to machines in order to minimize makespan. In general, this is a good first step that will aim to balance the workload across the machines evenly. However, it may be that other objectives are important as well.\n",
    "\n",
    "## Minimizing Sum of Completion Times\n",
    "\n",
    "Suppose we have an unrelated parallel machine environment and our objective is to minimize the sum of job completion times. We may begin by using the list scheduling approach with jobs sorted by their maximum processing time across machines to construct an initial solution. This is done in the following code block."
   ]
  },
  {
   "cell_type": "code",
   "execution_count": 25,
   "id": "923fae82-39b3-4637-8b03-20bcef3a27b6",
   "metadata": {},
   "outputs": [
    {
     "data": {
      "image/png": "[encoded data removed]",
      "text/plain": [
       "<Figure size 800x300 with 1 Axes>"
      ]
     },
     "metadata": {},
     "output_type": "display_data"
    }
   ],
   "source": [
    "number_of_machines = 4\n",
    "\n",
    "# sort data by max pij\n",
    "RM_data = RM_data.sort_index()\n",
    "RM_data['max_pij'] = RM_data.max(axis=1)\n",
    "\n",
    "RM_data = RM_data.sort_values(\n",
    "    'max_pij',\n",
    "    ascending=False,\n",
    ")\n",
    "\n",
    "# initialize schedules dictionary\n",
    "schedules = {}\n",
    "for machine_idx in range(1, number_of_machines+1):\n",
    "    schedules[f'M{machine_idx}'] = {'ready_time': 0, 'schedule': []}\n",
    "\n",
    "# apply list scheduling\n",
    "for job in RM_data.index:\n",
    "    sorted_machines = sorted(\n",
    "        schedules.items(), \n",
    "        key=lambda x: x[1]['ready_time'] + RM_data.loc[job, x[0]]\n",
    "    )\n",
    "    selected_machine = sorted_machines[0][0]\n",
    "    \n",
    "    start_time = schedules[selected_machine]['ready_time']\n",
    "    completion_time = start_time + RM_data.loc[job, selected_machine]\n",
    "    schedules[selected_machine]['schedule'].append(job)\n",
    "    schedules[selected_machine]['ready_time'] = completion_time\n",
    "\n",
    "# get details for Gantt chart\n",
    "schedule_details = {}\n",
    "for machine in schedules:\n",
    "    machine_schedule = schedules[machine]['schedule']\n",
    "    start_time = 0\n",
    "    machine_details = {}\n",
    "    for job in machine_schedule:\n",
    "        completion_time = start_time + RM_data.loc[job, machine]\n",
    "        machine_details[job] = {\n",
    "            'start_time': start_time,\n",
    "            'completion_time': completion_time,\n",
    "        }\n",
    "        start_time = completion_time\n",
    "    schedule_details[machine] = machine_details\n",
    "\n",
    "# make Gantt chart\n",
    "make_gantt_chart(schedule_details)"
   ]
  },
  {
   "cell_type": "markdown",
   "id": "39cfbd23-e5c9-4770-b672-f37c9126be07",
   "metadata": {},
   "source": [
    "The following code block computes the sum of job completion times"
   ]
  },
  {
   "cell_type": "code",
   "execution_count": 26,
   "id": "93f93187-fec1-4fd1-976a-6aaa9613b8b7",
   "metadata": {},
   "outputs": [
    {
     "name": "stdout",
     "output_type": "stream",
     "text": [
      "sum_of_completion_times = 1,013\n"
     ]
    }
   ],
   "source": [
    "sum_of_completion_times = 0\n",
    "for machine in schedule_details:\n",
    "    for job in schedule_details[machine]:\n",
    "        sum_of_completion_times += schedule_details[machine][job]['completion_time']\n",
    "\n",
    "print(f'{sum_of_completion_times = :,}')"
   ]
  },
  {
   "cell_type": "markdown",
   "id": "554fef56-718a-4549-92f0-d3dc98595cfb",
   "metadata": {},
   "source": [
    "When we looked at single machine scheduling, we noted that scheduling jobs in SPT order was optimal for $1//\\sum C_{j}$. Based on this, we would expect to get a better objective value by sorting the jobs assigned to each machine in SPT order. The following code does this for the previously generated schedule, updates the `schedule_details` object, and plots a revised Gantt chart."
   ]
  },
  {
   "cell_type": "code",
   "execution_count": 27,
   "id": "94668eb6-15c3-4c74-a122-b083d8c60a23",
   "metadata": {},
   "outputs": [
    {
     "data": {
      "image/png": "[encoded data removed]",
      "text/plain": [
       "<Figure size 800x300 with 1 Axes>"
      ]
     },
     "metadata": {},
     "output_type": "display_data"
    }
   ],
   "source": [
    "number_of_machines = 4\n",
    "\n",
    "# sort data by max pij\n",
    "RM_data = RM_data.sort_index()\n",
    "RM_data['max_pij'] = RM_data.max(axis=1)\n",
    "\n",
    "RM_data = RM_data.sort_values(\n",
    "    'max_pij',\n",
    "    ascending=False,\n",
    ")\n",
    "\n",
    "# initialize schedules dictionary\n",
    "schedules = {}\n",
    "for machine_idx in range(1, number_of_machines+1):\n",
    "    schedules[f'M{machine_idx}'] = {'ready_time': 0, 'schedule': []}\n",
    "\n",
    "# apply list scheduling\n",
    "for job in RM_data.index:\n",
    "    sorted_machines = sorted(\n",
    "        schedules.items(), \n",
    "        key=lambda x: x[1]['ready_time'] + RM_data.loc[job, x[0]]\n",
    "    )\n",
    "    selected_machine = sorted_machines[0][0]\n",
    "    \n",
    "    start_time = schedules[selected_machine]['ready_time']\n",
    "    completion_time = start_time + RM_data.loc[job, selected_machine]\n",
    "    schedules[selected_machine]['schedule'].append(job)\n",
    "    schedules[selected_machine]['ready_time'] = completion_time\n",
    "\n",
    "# apply SPT sort for individual machines\n",
    "for machine in schedules:\n",
    "    machine_schedule = schedules[machine]['schedule']\n",
    "    \n",
    "    SPT_sort = RM_data.loc[machine_schedule, machine].sort_values()\n",
    "    SPT_sort = SPT_sort.index.tolist()\n",
    "    schedules[machine]['schedule'] = SPT_sort\n",
    "\n",
    "# get details for Gantt chart\n",
    "schedule_details = {}\n",
    "for machine in schedules:\n",
    "    machine_schedule = schedules[machine]['schedule']\n",
    "    start_time = 0\n",
    "    machine_details = {}\n",
    "    for job in machine_schedule:\n",
    "        completion_time = start_time + RM_data.loc[job, machine]\n",
    "        machine_details[job] = {\n",
    "            'start_time': start_time,\n",
    "            'completion_time': completion_time,\n",
    "        }\n",
    "        start_time = completion_time\n",
    "    schedule_details[machine] = machine_details\n",
    "\n",
    "# make Gantt chart\n",
    "make_gantt_chart(schedule_details)"
   ]
  },
  {
   "cell_type": "markdown",
   "id": "df94a272-0363-46de-bf5a-cc10ad057c4d",
   "metadata": {},
   "source": [
    "The following code block prints the updated sum of completion times."
   ]
  },
  {
   "cell_type": "code",
   "execution_count": 28,
   "id": "672f8d81-9f6b-4a2c-892a-166d81262f27",
   "metadata": {},
   "outputs": [
    {
     "name": "stdout",
     "output_type": "stream",
     "text": [
      "sum_of_completion_times = 846\n"
     ]
    }
   ],
   "source": [
    "sum_of_completion_times = 0\n",
    "for machine in schedule_details:\n",
    "    for job in schedule_details[machine]:\n",
    "        sum_of_completion_times += schedule_details[machine][job]['completion_time']\n",
    "\n",
    "print(f'{sum_of_completion_times = :,}')"
   ]
  },
  {
   "cell_type": "markdown",
   "id": "54b402fa-753f-4f9a-92c2-26623ba3c157",
   "metadata": {},
   "source": [
    "# Neighborhood Search\n",
    "\n",
    "We will now look at applying a neighborhoos search approach to the unrelated data to see if we can improve upon the schedule identified by the list scheduling approach."
   ]
  },
  {
   "cell_type": "code",
   "execution_count": 29,
   "id": "fade46f7-4e88-4ba7-bf4a-b242c0aac679",
   "metadata": {},
   "outputs": [
    {
     "data": {
      "image/png": "[encoded data removed]",
      "text/plain": [
       "<Figure size 800x300 with 1 Axes>"
      ]
     },
     "metadata": {},
     "output_type": "display_data"
    }
   ],
   "source": [
    "number_of_machines = 4\n",
    "\n",
    "# sort data by max pij\n",
    "RM_data = RM_data.sort_index()\n",
    "RM_data['max_pij'] = RM_data.max(axis=1)\n",
    "\n",
    "RM_data = RM_data.sort_values(\n",
    "    'max_pij',\n",
    "    ascending=False,\n",
    ")\n",
    "\n",
    "# initialize schedules dictionary\n",
    "schedules = {}\n",
    "for machine_idx in range(1, number_of_machines+1):\n",
    "    schedules[f'M{machine_idx}'] = {'ready_time': 0, 'schedule': []}\n",
    "\n",
    "# apply list scheduling\n",
    "for job in RM_data.index:\n",
    "    sorted_machines = sorted(\n",
    "        schedules.items(), \n",
    "        key=lambda x: x[1]['ready_time'] + RM_data.loc[job, x[0]]\n",
    "    )\n",
    "    selected_machine = sorted_machines[0][0]\n",
    "    \n",
    "    start_time = schedules[selected_machine]['ready_time']\n",
    "    completion_time = start_time + RM_data.loc[job, selected_machine]\n",
    "    schedules[selected_machine]['schedule'].append(job)\n",
    "    schedules[selected_machine]['ready_time'] = completion_time\n",
    "\n",
    "# apply SPT sort for individual machines\n",
    "for machine in schedules:\n",
    "    machine_schedule = schedules[machine]['schedule']\n",
    "    \n",
    "    SPT_sort = RM_data.loc[machine_schedule, machine].sort_values()\n",
    "    SPT_sort = SPT_sort.index.tolist()\n",
    "    schedules[machine]['schedule'] = SPT_sort\n",
    "\n",
    "# get details for Gantt chart\n",
    "schedule_details = {}\n",
    "for machine in schedules:\n",
    "    machine_schedule = schedules[machine]['schedule']\n",
    "    start_time = 0\n",
    "    machine_details = {}\n",
    "    for job in machine_schedule:\n",
    "        completion_time = start_time + RM_data.loc[job, machine]\n",
    "        machine_details[job] = {\n",
    "            'start_time': start_time,\n",
    "            'completion_time': completion_time,\n",
    "        }\n",
    "        start_time = completion_time\n",
    "    schedule_details[machine] = machine_details\n",
    "\n",
    "# make Gantt chart\n",
    "make_gantt_chart(schedule_details)"
   ]
  },
  {
   "cell_type": "markdown",
   "id": "d2fa1e56-f846-485f-a261-226ec3cdb0ee",
   "metadata": {},
   "source": [
    "We will import a couple of aditional libraries to help out with the neighborhood search."
   ]
  },
  {
   "cell_type": "code",
   "execution_count": 30,
   "id": "ca199a2d-30a4-43e0-a5a9-2d2b4e158f5b",
   "metadata": {},
   "outputs": [],
   "source": [
    "import copy\n",
    "import random"
   ]
  },
  {
   "cell_type": "markdown",
   "id": "a635a4cd-4485-40f1-a972-0456005823d3",
   "metadata": {},
   "source": [
    "We will first define a function to swap the machine that two jobs are assigned to."
   ]
  },
  {
   "cell_type": "code",
   "execution_count": 31,
   "id": "5f77a0af-f9fb-4c30-aee7-8040c71e884b",
   "metadata": {},
   "outputs": [],
   "source": [
    "def get_swap_neighbor(starting_solution):\n",
    "\n",
    "    neighbor = copy.deepcopy(starting_solution)\n",
    "\n",
    "    m1, m2 = np.random.choice(\n",
    "        list(neighbor.keys()), \n",
    "        size=2, \n",
    "        replace=False,\n",
    "    ).tolist()\n",
    "    \n",
    "    m1_job = np.random.choice(neighbor[m1])\n",
    "    m2_job = np.random.choice(neighbor[m2])\n",
    "    \n",
    "    neighbor[m1].remove(m1_job)\n",
    "    neighbor[m2].remove(m2_job)\n",
    "    \n",
    "    neighbor[m1].append(m2_job)\n",
    "    neighbor[m2].append(m1_job)\n",
    "\n",
    "    return neighbor"
   ]
  },
  {
   "cell_type": "markdown",
   "id": "ab364e19-6f1e-4c5a-9edc-7d202196a8b2",
   "metadata": {},
   "source": [
    "We will first define a function to move a job from one machine to another."
   ]
  },
  {
   "cell_type": "code",
   "execution_count": 32,
   "id": "770d20ef-7fd7-49cd-a5cb-9fba154249f9",
   "metadata": {},
   "outputs": [],
   "source": [
    "def get_move_neighbor(starting_solution):\n",
    "\n",
    "    neighbor = copy.deepcopy(starting_solution)\n",
    "\n",
    "    m1, m2 = np.random.choice(\n",
    "        list(neighbor.keys()), \n",
    "        size=2, \n",
    "        replace=False,\n",
    "    ).tolist()\n",
    "    \n",
    "    m1_job = np.random.choice(neighbor[m1])\n",
    "    \n",
    "    neighbor[m1].remove(m1_job)\n",
    "    neighbor[m2].append(m1_job)\n",
    "\n",
    "    return neighbor"
   ]
  },
  {
   "cell_type": "markdown",
   "id": "f1ab4ebe-e020-4031-a3f9-0607e0aa9dbc",
   "metadata": {},
   "source": [
    "The following function defines a function to apply a shortest processing time sort to a generated neighbor."
   ]
  },
  {
   "cell_type": "code",
   "execution_count": 33,
   "id": "b668ac7d-f130-4414-b0fe-f35f9744c357",
   "metadata": {},
   "outputs": [],
   "source": [
    "def SPT_sort_schedule(starting_solution, processing_time_df):\n",
    "\n",
    "    sorted_schedule = {}\n",
    "    \n",
    "    for machine in starting_solution:\n",
    "        machine_schedule = starting_solution[machine]\n",
    "        \n",
    "        SPT_sort = processing_time_df.loc[machine_schedule, machine].sort_values()\n",
    "        SPT_sort = SPT_sort.index.tolist()\n",
    "        sorted_schedule[machine] = SPT_sort\n",
    "\n",
    "    return sorted_schedule"
   ]
  },
  {
   "cell_type": "markdown",
   "id": "dffce0a6-0483-40f0-af22-3d53e2f711d3",
   "metadata": {},
   "source": [
    "The following code block defines a function to compute the sum of completion times for a neighbor solution."
   ]
  },
  {
   "cell_type": "code",
   "execution_count": 34,
   "id": "b8d20595-5fa9-4a91-af17-9cdfcf393be1",
   "metadata": {},
   "outputs": [],
   "source": [
    "def compute_sum_cj(starting_solution, processing_time_df):\n",
    "    \n",
    "    sum_cj = 0.0\n",
    "    for machine in starting_solution:\n",
    "        sum_cj += processing_time_df.loc[starting_solution[machine], machine].cumsum().sum()\n",
    "    \n",
    "    return sum_cj"
   ]
  },
  {
   "cell_type": "markdown",
   "id": "5bca070f-eb1c-4b2f-b231-7e612cad6bab",
   "metadata": {},
   "source": [
    "The following code block implements the neighborhood search procedure."
   ]
  },
  {
   "cell_type": "code",
   "execution_count": 35,
   "id": "7e29c462-c280-4edc-bfbb-4a41512a1a09",
   "metadata": {},
   "outputs": [
    {
     "name": "stdout",
     "output_type": "stream",
     "text": [
      " - Improvement to 845.0\n",
      " - Improvement to 839.0\n",
      " - Improvement to 830.0\n",
      " - Improvement to 827.0\n",
      " - Improvement to 811.0\n",
      " - Improvement to 802.0\n",
      " - Improvement to 793.0\n",
      " - Improvement to 791.0\n"
     ]
    }
   ],
   "source": [
    "best_solution = {machine: val['schedule'] for machine, val in schedules.items()}\n",
    "best_sum_cj = compute_sum_cj(best_solution, RM_data)\n",
    "\n",
    "max_iterations = 1_000\n",
    "iteration = 0\n",
    "while iteration < max_iterations:\n",
    "    iteration += 1\n",
    "    if random.random() <= 0.5:\n",
    "        neighbor = get_move_neighbor(best_solution)\n",
    "    else:\n",
    "        neighbor = get_swap_neighbor(best_solution)\n",
    "    neighbor = SPT_sort_schedule(neighbor, RM_data)\n",
    "    neighbor_sum_cj = compute_sum_cj(neighbor, RM_data)\n",
    "    if neighbor_sum_cj < best_sum_cj:\n",
    "        best_solution = {key: val for key, val in neighbor.items()}\n",
    "        best_sum_cj = neighbor_sum_cj\n",
    "        iteration = 0\n",
    "        print(f' - Improvement to {best_sum_cj}')"
   ]
  },
  {
   "cell_type": "markdown",
   "id": "2c520c7c-9d39-4d15-8ae8-834e2854a28b",
   "metadata": {},
   "source": [
    "The following code block generates the Gantt chart"
   ]
  },
  {
   "cell_type": "code",
   "execution_count": 36,
   "id": "153f8289-3d59-473d-8afc-9fc9109b6d4c",
   "metadata": {},
   "outputs": [
    {
     "data": {
      "image/png": "[encoded data removed]",
      "text/plain": [
       "<Figure size 800x300 with 1 Axes>"
      ]
     },
     "metadata": {},
     "output_type": "display_data"
    }
   ],
   "source": [
    "schedule_details = {}\n",
    "for machine in best_solution:\n",
    "    machine_schedule = best_solution[machine]\n",
    "    start_time = 0\n",
    "    machine_details = {}\n",
    "    for job in machine_schedule:\n",
    "        completion_time = start_time + RM_data.loc[job, machine]\n",
    "        machine_details[job] = {\n",
    "            'start_time': start_time,\n",
    "            'completion_time': completion_time,\n",
    "        }\n",
    "        start_time = completion_time\n",
    "    schedule_details[machine] = machine_details\n",
    "\n",
    "make_gantt_chart(schedule_details)"
   ]
  },
  {
   "cell_type": "code",
   "execution_count": null,
   "id": "9c1b5620-a383-4ba2-950c-055199342e71",
   "metadata": {},
   "outputs": [],
   "source": []
  }
 ],
 "metadata": {
  "kernelspec": {
   "display_name": "Python 3 (ipykernel)",
   "language": "python",
   "name": "python3"
  },
  "language_info": {
   "codemirror_mode": {
    "name": "ipython",
    "version": 3
   },
   "file_extension": ".py",
   "mimetype": "text/x-python",
   "name": "python",
   "nbconvert_exporter": "python",
   "pygments_lexer": "ipython3",
   "version": "3.12.4"
  }
 },
 "nbformat": 4,
 "nbformat_minor": 5
}
