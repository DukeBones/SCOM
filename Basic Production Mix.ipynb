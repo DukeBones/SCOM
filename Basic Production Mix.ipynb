{
 "cells": [
  {
   "cell_type": "markdown",
   "metadata": {},
   "source": [
    "The following call installs pulp, you can do this from the terminal and not repeat it in every notebook."
   ]
  },
  {
   "cell_type": "code",
   "execution_count": 6,
   "metadata": {},
   "outputs": [
    {
     "name": "stdout",
     "output_type": "stream",
     "text": [
      "Collecting pulp\n",
      "  Obtaining dependency information for pulp from https://files.pythonhosted.org/packages/09/d7/57e71e11108203039c895643368c0d1a99fe719a6a80184edf240c33d25f/PuLP-2.8.0-py3-none-any.whl.metadata\n",
      "  Downloading PuLP-2.8.0-py3-none-any.whl.metadata (5.4 kB)\n",
      "Downloading PuLP-2.8.0-py3-none-any.whl (17.7 MB)\n",
      "   ---------------------------------------- 0.0/17.7 MB ? eta -:--:--\n",
      "   ---------------------------------------- 0.0/17.7 MB ? eta -:--:--\n",
      "   ---------------------------------------- 0.0/17.7 MB 667.8 kB/s eta 0:00:27\n",
      "    --------------------------------------- 0.4/17.7 MB 3.9 MB/s eta 0:00:05\n",
      "   -- ------------------------------------- 1.0/17.7 MB 6.7 MB/s eta 0:00:03\n",
      "   ---- ----------------------------------- 1.9/17.7 MB 10.1 MB/s eta 0:00:02\n",
      "   ------- -------------------------------- 3.2/17.7 MB 13.7 MB/s eta 0:00:02\n",
      "   ----------- ---------------------------- 5.1/17.7 MB 18.3 MB/s eta 0:00:01\n",
      "   ------------------ --------------------- 8.0/17.7 MB 24.4 MB/s eta 0:00:01\n",
      "   ---------------------------- ----------- 12.4/17.7 MB 59.5 MB/s eta 0:00:01\n",
      "   ---------------------------------------  17.7/17.7 MB 110.0 MB/s eta 0:00:01\n",
      "   ---------------------------------------- 17.7/17.7 MB 65.5 MB/s eta 0:00:00\n",
      "Installing collected packages: pulp\n",
      "Successfully installed pulp-2.8.0\n",
      "Note: you may need to restart the kernel to use updated packages.\n"
     ]
    },
    {
     "name": "stderr",
     "output_type": "stream",
     "text": [
      "  WARNING: The script pulptest.exe is installed in 'c:\\Users\\laj11\\AppData\\Local\\Programs\\Python\\Python312\\Scripts' which is not on PATH.\n",
      "  Consider adding this directory to PATH or, if you prefer to suppress this warning, use --no-warn-script-location.\n",
      "\n",
      "[notice] A new release of pip is available: 23.2.1 -> 23.3.2\n",
      "[notice] To update, run: python.exe -m pip install --upgrade pip\n"
     ]
    }
   ],
   "source": [
    "%pip install pulp"
   ]
  },
  {
   "cell_type": "markdown",
   "metadata": {},
   "source": [
    "Production Mix Problem\n",
    "\n",
    "Decision variables: <br> \n",
    "$C$ : number of camshafts to produce <br>\n",
    "$G$ : number of gears to produce. <br>\n",
    "\n",
    "\\begin{align*}\n",
    "{Max~~} & 25C + 18G~~ \\text{(objective function, maximize revenue)} \\\\\n",
    "{s.t.~~} &   5C + 8G \\le 5000~~ \\text{(steel limit, lb)} \\\\\n",
    "& 1C + 4G \\le 1500~~ \\text{(labor limit, hr)}  \\\\\n",
    "& 3C + 2G \\le 1000~~ \\text{(machine time limit, hr)}  \\\\\n",
    "& C, G \\ge 0~~ \\text{(nonnegativity)}. \n",
    "\\end{align*}"
   ]
  },
  {
   "cell_type": "code",
   "execution_count": 1,
   "metadata": {},
   "outputs": [
    {
     "data": {
      "text/plain": [
       "{'C': 100.0, 'G': 350.0, 'Objective': 8800.0}"
      ]
     },
     "execution_count": 1,
     "metadata": {},
     "output_type": "execute_result"
    }
   ],
   "source": [
    "# Production Mix Problem\n",
    "import pulp\n",
    "\n",
    "# Define the problem\n",
    "problem = pulp.LpProblem(\"Maximize_Revenue\", pulp.LpMaximize)\n",
    "\n",
    "# Decision variables\n",
    "C = pulp.LpVariable('C', lowBound=0, cat='Continuous')  # Camshafts\n",
    "G = pulp.LpVariable('G', lowBound=0, cat='Continuous')  # Gears\n",
    "\n",
    "# Objective function\n",
    "problem += 25 * C + 18 * G, \"Total Revenue\"\n",
    "\n",
    "# Constraints\n",
    "problem += 5 * C + 8 * G <= 5000, \"Steel Limit\"\n",
    "problem += 1 * C + 4 * G <= 1500, \"Labor Limit\"\n",
    "problem += 3 * C + 2 * G <= 1000, \"Machine Time Limit\"\n",
    "\n",
    "# Solve the problem\n",
    "problem.solve()\n",
    "\n",
    "# Get the results\n",
    "solution = {\n",
    "    'C': C.varValue,\n",
    "    'G': G.varValue,\n",
    "    'Objective': pulp.value(problem.objective)\n",
    "}\n",
    "\n",
    "solution"
   ]
  },
  {
   "cell_type": "markdown",
   "metadata": {},
   "source": [
    "Production Processes for Chemicals\n",
    "\n",
    "The following cell is for the LP Chemical problem:\n",
    "\n",
    "Decision variables: <br>\n",
    "$p_1$ : times process 1 is run <br>\n",
    "$p_2$ : times process 2 is run <br>\n",
    "$d$ : disposal of chemical b required <br>\n",
    "\n",
    "\\begin{align*}\n",
    "Max~~& 16(2p_1+3p_2) + 14(p_1+2p_2) - (14+2)d~~ \\text{(objective function)} \\\\\n",
    "s.t.~~ &  2p_1+3p_2 \\le 60~~  \\text{(resource limit on labor)}\\\\\n",
    "&  1p_1+2p_2 \\le 40 ~~ \\text{(resource limit on material X)}\\\\\n",
    "&  1p_1+2p_2 - d \\le 20~~  \\text{(disposal logic)}\\\\\n",
    "& p_1, p_2, d \\ge 0~~ \\text{(nonnegativity)}. \\\\ \n",
    "\\end{align*}"
   ]
  },
  {
   "cell_type": "code",
   "execution_count": 12,
   "metadata": {},
   "outputs": [
    {
     "name": "stderr",
     "output_type": "stream",
     "text": [
      "c:\\Users\\laj11\\AppData\\Local\\Programs\\Python\\Python312\\Lib\\site-packages\\pulp\\pulp.py:1316: UserWarning: Spaces are not permitted in the name. Converted to '_'\n",
      "  warnings.warn(\"Spaces are not permitted in the name. Converted to '_'\")\n"
     ]
    },
    {
     "data": {
      "text/plain": [
       "{'p1': 30.0, 'p2': 0.0, 'd': 10.0, 'Objective': 1220.0}"
      ]
     },
     "execution_count": 12,
     "metadata": {},
     "output_type": "execute_result"
    }
   ],
   "source": [
    "import pulp\n",
    "#LP Chemical\n",
    "# define the problem\n",
    "problem = pulp.LpProblem(\"Optimization Problem\", pulp.LpMaximize)\n",
    "\n",
    "# Decision variables\n",
    "p1 = pulp.LpVariable('p1', lowBound=0, cat='Continuous')\n",
    "p2 = pulp.LpVariable('p2', lowBound=0, cat='Continuous')\n",
    "d = pulp.LpVariable('d', lowBound=0, cat='Continuous')\n",
    "\n",
    "# Objective function\n",
    "problem += 16 * (2 * p1 + 3 * p2) + 14 * (p1 + 2 * p2) - (14 + 2) * d\n",
    "\n",
    "# Constraints\n",
    "problem += 2 * p1 + 3 * p2 <= 60  # Resource limit on labor\n",
    "problem += 1 * p1 + 2 * p2 <= 40  # Resource limit on material X\n",
    "problem += 1 * p1 + 2 * p2 - d <= 20  # Disposal logic\n",
    "\n",
    "# Solve the problem\n",
    "problem.solve()\n",
    "\n",
    "# Get the results\n",
    "solution = {\n",
    "    'p1': p1.varValue,\n",
    "    'p2': p2.varValue,\n",
    "    'd': d.varValue,\n",
    "    'Objective': pulp.value(problem.objective)\n",
    "}\n",
    "\n",
    "solution\n",
    "\n"
   ]
  }
 ],
 "metadata": {
  "kernelspec": {
   "display_name": ".venv",
   "language": "python",
   "name": "python3"
  },
  "language_info": {
   "codemirror_mode": {
    "name": "ipython",
    "version": 3
   },
   "file_extension": ".py",
   "mimetype": "text/x-python",
   "name": "python",
   "nbconvert_exporter": "python",
   "pygments_lexer": "ipython3",
   "version": "3.12.1"
  }
 },
 "nbformat": 4,
 "nbformat_minor": 2
}
