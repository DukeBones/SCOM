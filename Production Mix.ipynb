{
 "cells": [
  {
   "cell_type": "code",
   "execution_count": 1,
   "metadata": {},
   "outputs": [
    {
     "name": "stdout",
     "output_type": "stream",
     "text": [
      "Requirement already satisfied: pulp in c:\\users\\laj11\\appdata\\local\\programs\\python\\python312\\lib\\site-packages (2.8.0)\n",
      "Note: you may need to restart the kernel to use updated packages.\n"
     ]
    },
    {
     "name": "stderr",
     "output_type": "stream",
     "text": [
      "\n",
      "[notice] A new release of pip is available: 23.2.1 -> 23.3.2\n",
      "[notice] To update, run: python.exe -m pip install --upgrade pip\n"
     ]
    }
   ],
   "source": [
    "#Assignment 2 OM-517 Luke Jones\n",
    "#Install Pulp\n",
    "%pip install pulp"
   ]
  },
  {
   "cell_type": "code",
   "execution_count": 39,
   "metadata": {},
   "outputs": [
    {
     "data": {
      "text/plain": [
       "{'T': 3.0, 'P': 7.0, 'N': 0.0, 'Objective': 166.0}"
      ]
     },
     "execution_count": 39,
     "metadata": {},
     "output_type": "execute_result"
    }
   ],
   "source": [
    "import pulp\n",
    "#Problem 1 Base\n",
    "# Define the problem\n",
    "problem = pulp.LpProblem(\"Maximize_Revenue\", pulp.LpMaximize)\n",
    "\n",
    "# Decision variables\n",
    "T = pulp.LpVariable('T', lowBound=0, cat='Continuous')  # # of Tricorders\n",
    "P = pulp.LpVariable('P', lowBound=0, cat='Continuous')  # # of Phasers\n",
    "N = pulp.LpVariable('N', lowBound=0, cat='Continuous')  # # of Personal Transporters\n",
    "\n",
    "# Objective function\n",
    "problem +=18 * T + 16 * P + 10 * N, \"Total Revenue\"\n",
    "\n",
    "# Constraints\n",
    "problem += 2 * T + 2 * P + 1 * N <= 21, \"TAA Limit\"\n",
    "problem += 3 * T + 2 * P + 2 * N <= 23, \"Welding Time Limit\"\n",
    "problem += 1 * T + 2 * P + 1 * N <= 17, \"Cutting Time Limit\"\n",
    "\n",
    "# Solve the problem\n",
    "problem.solve()\n",
    "\n",
    "# Get the results\n",
    "solution = {\n",
    "    'T': T.varValue,\n",
    "    'P': P.varValue,\n",
    "    'N': N.varValue,\n",
    "    'Objective': pulp.value(problem.objective)\n",
    "}\n",
    "\n",
    "solution\n"
   ]
  },
  {
   "cell_type": "code",
   "execution_count": 1,
   "metadata": {},
   "outputs": [
    {
     "data": {
      "text/plain": [
       "{'T': 10.0,\n",
       " 'P': 10.0,\n",
       " 'N': 0.0,\n",
       " 'AD': 19.0,\n",
       " 'WD': 27.0,\n",
       " 'BD': 13.0,\n",
       " 'Objective': 166.0}"
      ]
     },
     "execution_count": 1,
     "metadata": {},
     "output_type": "execute_result"
    }
   ],
   "source": [
    "import pulp\n",
    "#Problem 1 Buy Units\n",
    "# Define the problem\n",
    "problem = pulp.LpProblem(\"Maximize_Revenue\", pulp.LpMaximize)\n",
    "\n",
    "# Decision variables\n",
    "T = pulp.LpVariable('T', lowBound=0, cat='Continuous')  # # of Tricorders\n",
    "P = pulp.LpVariable('P', lowBound=0, cat='Continuous')  # # of Phasers\n",
    "N = pulp.LpVariable('N', lowBound=0, cat='Continuous')  # # of Personal Transporters\n",
    "\n",
    "AD = pulp.LpVariable('AD', lowBound=0, cat='Continuous')  # # of Purchased TAA\n",
    "WD = pulp.LpVariable('WD', lowBound=0, cat='Continuous')  # # of Purchased LazWeld\n",
    "BD = pulp.LpVariable('BD', lowBound=0, cat='Continuous')  # # of Purchased Bender\n",
    "\n",
    "# Objective function\n",
    "problem +=18 * T + 16 * P + 10 * N - 5 * WD - 3 * BD, \"Total Revenue\"\n",
    "\n",
    "# Constraints\n",
    "#problem += 2 * T + 2 * P + 1 * N <= 21, \"TAA Limit\"\n",
    "#problem += 3 * T + 2 * P + 2 * N <= 23, \"Welding Time Limit\"\n",
    "#problem += 1 * T + 2 * P + 1 * N <= 17, \"Cutting Time Limit\"\n",
    "problem += 2 * T + 2 * P + 1 * N - AD <= 21, \"TAA Limit\"\n",
    "problem += 3 * T + 2 * P + 2 * N - WD <= 23, \"Welding Unit Logic\"\n",
    "problem += 1 * T + 2 * P + 1 * N - BD <= 17, \"Cutting Time Limit\"\n",
    "problem += T <= 10\n",
    "problem += P <= 10\n",
    "problem += N <= 10\n",
    "\n",
    "# Solve the problem\n",
    "problem.solve()\n",
    "\n",
    "# Get the results\n",
    "solution = {\n",
    "    'T': T.varValue,\n",
    "    'P': P.varValue,\n",
    "    'N': N.varValue,\n",
    "    'AD': AD.varValue,\n",
    "    'WD': WD.varValue,\n",
    "    'BD': BD.varValue,\n",
    "    'Objective': pulp.value(problem.objective)\n",
    "}\n",
    "\n",
    "solution\n"
   ]
  },
  {
   "cell_type": "code",
   "execution_count": 2,
   "metadata": {},
   "outputs": [
    {
     "data": {
      "text/plain": [
       "{'W': 0.0, 'M': 6.0, 'Objective': 3600.0}"
      ]
     },
     "execution_count": 2,
     "metadata": {},
     "output_type": "execute_result"
    }
   ],
   "source": [
    "import pulp\n",
    "#Problem 2\n",
    "# Define the problem\n",
    "problem = pulp.LpProblem(\"Maximize_Revenue\", pulp.LpMaximize)\n",
    "\n",
    "# Decision variables\n",
    "W = pulp.LpVariable('W', lowBound=0, cat='Continuous')  # Wooden Desks (First Type)\n",
    "M = pulp.LpVariable('M', lowBound=0, cat='Continuous')  # Metal Desks (Second Type)\n",
    "\n",
    "# Objective function\n",
    "problem += (1100 - (25*20+2*5))*W + (765 - (2*20+25*5))*M, \"Total Revenue\"\n",
    "\n",
    "# Constraints\n",
    "problem += 25 * W + 2 * M <= 100, \"Teak Limit\"\n",
    "problem += 12* W + 25 * M <= 1000, \"Aluminum Limit\"\n",
    "problem += 20 * W + 20 * M <= 120, \"Labor Time Limit\"\n",
    "\n",
    "# Solve the problem\n",
    "problem.solve()\n",
    "\n",
    "# Get the results\n",
    "solution = {\n",
    "    'W': W.varValue,\n",
    "    'M': M.varValue,\n",
    "    'Objective': pulp.value(problem.objective)\n",
    "}\n",
    "\n",
    "solution"
   ]
  }
 ],
 "metadata": {
  "kernelspec": {
   "display_name": "Python 3",
   "language": "python",
   "name": "python3"
  },
  "language_info": {
   "codemirror_mode": {
    "name": "ipython",
    "version": 3
   },
   "file_extension": ".py",
   "mimetype": "text/x-python",
   "name": "python",
   "nbconvert_exporter": "python",
   "pygments_lexer": "ipython3",
   "version": "3.12.1"
  }
 },
 "nbformat": 4,
 "nbformat_minor": 2
}
