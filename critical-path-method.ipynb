{
 "cells": [
  {
   "cell_type": "markdown",
   "id": "de715a1d-5e26-4896-8a6d-c44dbea7037e",
   "metadata": {},
   "source": [
    "# Critical Path Method\n",
    "\n",
    "The Critical Path Method (CPM) is a project management technique used to schedule tasks and manage complex projects. It identifies the longest sequence of dependent activities (the critical path) that determines the shortest possible duration of a project. Identifying the the critical path helps project managers prioritize activities that must be completed on time to avoid delaying the entire project.\n",
    "\n",
    "The steps of the critical path method are:\n",
    "1. Define tasks with their dependencies and durations.\n",
    "2. For each task, initialize:\n",
    "   - Earliest Start (ES) = 0\n",
    "   - Earliest Finish (EF) = 0\n",
    "   - Latest Start (LS) = $\\infty$\n",
    "   - Latest Finish (LF) = $\\infty$\n",
    "3. Perform forward pass to calculate ES and EF for each task:\n",
    "   - For each task in topological order:\n",
    "     - ES[task] = max(EF[all predecessors])\n",
    "     - EF[task] = ES[task] + duration[task]\n",
    "4. Identify the project duration as the maximum EF of any task.\n",
    "5. Perform backward pass to calculate LS and LF for each task:\n",
    "   - For each task in reverse topological order:\n",
    "     - LF[task] = min(LS[all successors])\n",
    "     - LS[task] = LF[task] - duration[task]\n",
    "6. Calculate slack for each task:\n",
    "   Slack[task] = LS[task] - ES[task]\n",
    "7. Identify the critical path:\n",
    "   - Tasks with Slack = 0 form the critical path.\n",
    "   - The total project duration is determined by the total duration of tasks on the critical path.\n",
    "\n",
    "The following subsections implement each of the described steps of the CPM.\n",
    "\n",
    "## 1. Define tasks with their dependencies and durations."
   ]
  },
  {
   "cell_type": "code",
   "execution_count": null,
   "id": "c87ae7da-49e5-42cc-96ec-bd496752cf6f",
   "metadata": {},
   "outputs": [],
   "source": [
    "# Define tasks\n",
    "# project_data = {\n",
    "#     \"A\": {\"time\": 4, \"successors\": [\"C\"]},\n",
    "#     \"B\": {\"time\": 3, \"successors\": [\"C\", \"D\"]},\n",
    "#     \"C\": {\"time\": 5, \"successors\": [\"E\"]},\n",
    "#     \"D\": {\"time\": 5, \"successors\": [\"E\"]},\n",
    "#     \"E\": {\"time\": 4, \"successors\": []},\n",
    "# }\n",
    "\n",
    "project_data = {\n",
    "    \"A1\": {\"time\": 5, \"successors\": [\"B1\", \"B2\"]},\n",
    "    \"A2\": {\"time\": 4, \"successors\": [\"B2\", \"B3\"]},\n",
    "    \"A3\": {\"time\": 3, \"successors\": [\"B3\", \"B4\"]},\n",
    "    \"B1\": {\"time\": 6, \"successors\": [\"C1\"]},\n",
    "    \"B2\": {\"time\": 5, \"successors\": [\"C1\", \"C2\"]},\n",
    "    \"B3\": {\"time\": 4, \"successors\": [\"C2\", \"C3\"]},\n",
    "    \"B4\": {\"time\": 3, \"successors\": [\"C3\"]},\n",
    "    \"C1\": {\"time\": 4, \"successors\": []},\n",
    "    \"C2\": {\"time\": 5, \"successors\": []},\n",
    "    \"C3\": {\"time\": 6, \"successors\": []}\n",
    "}\n",
    "\n",
    "for task in project_data:\n",
    "    project_data[task]['predecessors'] = []\n",
    "\n",
    "for task in project_data:\n",
    "    successors = project_data[task]['successors']\n",
    "    for successor in successors:\n",
    "        project_data[successor]['predecessors'].append(task)\n",
    "\n",
    "project_data"
   ]
  },
  {
   "cell_type": "markdown",
   "id": "d9b400f3-fa58-4861-94be-bf46bdc8596d",
   "metadata": {},
   "source": [
    "## 2. Initialization"
   ]
  },
  {
   "cell_type": "code",
   "execution_count": null,
   "id": "21581006-1045-40d6-a236-8738218f545d",
   "metadata": {},
   "outputs": [],
   "source": [
    "start_time = 0\n",
    "max_time = start_time + sum([val['time'] for val in project_data.values()])\n",
    "\n",
    "for task in project_data:\n",
    "    project_data[task]['ES'] = 0.0\n",
    "    project_data[task]['EF'] = 0.0\n",
    "    project_data[task]['LS'] = max_time\n",
    "    project_data[task]['LF'] = max_time"
   ]
  },
  {
   "cell_type": "markdown",
   "id": "e8bf9cd4-bbcc-4ce2-9607-b0f06511f059",
   "metadata": {},
   "source": [
    "## 3. Forward Pass"
   ]
  },
  {
   "cell_type": "code",
   "execution_count": null,
   "id": "3c289599-739c-49e9-a5a1-821f36d1f5e7",
   "metadata": {},
   "outputs": [],
   "source": [
    "# forward pass (early start and early finish times)\n",
    "\n",
    "print('Starting forward pass')\n",
    "\n",
    "unprocessed_tasks = set(project_data.keys())\n",
    "\n",
    "sequence = 0\n",
    "while unprocessed_tasks:\n",
    "    processed_tasks = set()\n",
    "    for task in unprocessed_tasks:\n",
    "        predecessors = project_data[task]['predecessors']\n",
    "        \n",
    "        if predecessors:\n",
    "            unprocessed_predecessors = set(project_data[task]['predecessors']).intersection(unprocessed_tasks)\n",
    "            if not unprocessed_predecessors:\n",
    "                max_predecessor_EF = 0\n",
    "                for predecessor in predecessors:\n",
    "                    if project_data[predecessor]['EF'] > max_predecessor_EF:\n",
    "                        max_predecessor_EF = project_data[predecessor]['EF']\n",
    "                project_data[task]['ES'] = max_predecessor_EF\n",
    "                project_data[task]['EF'] = max_predecessor_EF + project_data[task]['time']\n",
    "                processed_tasks.add(task)\n",
    "                sequence += 1\n",
    "                print(f'{sequence:>2}. Processed task {task}')\n",
    "        else:\n",
    "            project_data[task]['ES'] = start_time\n",
    "            project_data[task]['EF'] = start_time + project_data[task]['time']\n",
    "            processed_tasks.add(task)\n",
    "            sequence += 1\n",
    "            print(f'{sequence:>2}. Processed task {task}')\n",
    "\n",
    "    for task in processed_tasks:\n",
    "        unprocessed_tasks.remove(task)"
   ]
  },
  {
   "cell_type": "markdown",
   "id": "bdcbfbe6-cd4e-4fc3-8795-1b5c53a4d547",
   "metadata": {},
   "source": [
    "## 4. Determine Project Length"
   ]
  },
  {
   "cell_type": "code",
   "execution_count": null,
   "id": "e06df757-0559-4879-9bdf-3369b6d3bab9",
   "metadata": {},
   "outputs": [],
   "source": [
    "project_length = -1\n",
    "for task in project_data:\n",
    "    if project_data[task]['EF'] > project_length:\n",
    "        project_length =  project_data[task]['EF']\n",
    "\n",
    "print(f'{project_length = }')"
   ]
  },
  {
   "cell_type": "markdown",
   "id": "5dc6f6da-988c-45ae-99e5-8ae2022bcb3c",
   "metadata": {},
   "source": [
    "## 5. Backward Pass"
   ]
  },
  {
   "cell_type": "code",
   "execution_count": null,
   "id": "a2073b61-97d6-4441-aa2f-0ab6b1e428e8",
   "metadata": {},
   "outputs": [],
   "source": [
    "print('Starting backward pass')\n",
    "# backward pass (late start and late finish times)\n",
    "\n",
    "unprocessed_tasks = set(project_data.keys())\n",
    "\n",
    "sequence = 0\n",
    "while unprocessed_tasks:\n",
    "    processed_tasks = set()\n",
    "    for task in unprocessed_tasks:\n",
    "        successors = project_data[task]['successors']\n",
    "        \n",
    "        if successors:\n",
    "            unprocessed_successors = set(project_data[task]['successors']).intersection(unprocessed_tasks)\n",
    "            if not unprocessed_successors:\n",
    "                min_successor_LS = project_length\n",
    "                for successor in successors:\n",
    "                    if project_data[successor]['LS'] < min_successor_LS:\n",
    "                        min_successor_LS = project_data[successor]['LS']\n",
    "                project_data[task]['LF'] = min_successor_LS\n",
    "                project_data[task]['LS'] = min_successor_LS - project_data[task]['time']\n",
    "                processed_tasks.add(task)\n",
    "                sequence += 1\n",
    "                print(f'{sequence:>2}. Processed task {task}')\n",
    "        else:\n",
    "            project_data[task]['LF'] = project_length\n",
    "            project_data[task]['LS'] = project_length - project_data[task]['time']\n",
    "            processed_tasks.add(task)\n",
    "            sequence += 1\n",
    "            print(f'{sequence:>2}. Processed task {task}')\n",
    "\n",
    "    for task in processed_tasks:\n",
    "        unprocessed_tasks.remove(task)"
   ]
  },
  {
   "cell_type": "markdown",
   "id": "38d66a51-189d-43c3-b687-fd64287acf26",
   "metadata": {},
   "source": [
    "## 6. Slack Calculations"
   ]
  },
  {
   "cell_type": "code",
   "execution_count": null,
   "id": "19dc7018-73ec-425f-ad43-03d1ab0ad3f5",
   "metadata": {},
   "outputs": [],
   "source": [
    "for task in project_data:\n",
    "    project_data[task]['slack'] = project_data[task]['LF'] - project_data[task]['EF']"
   ]
  },
  {
   "cell_type": "markdown",
   "id": "70e0731e-fb04-4a73-b378-2234eecbda55",
   "metadata": {},
   "source": [
    "## 7. Determine Critical Activities"
   ]
  },
  {
   "cell_type": "code",
   "execution_count": null,
   "id": "8f0da922-336d-4673-8367-6b9899f4bebd",
   "metadata": {},
   "outputs": [],
   "source": [
    "crticial_activities = []\n",
    "for task in project_data:\n",
    "    if project_data[task]['slack'] == 0:\n",
    "        project_data[task]['critical'] = True\n",
    "        crticial_activities.append(task)\n",
    "    else:\n",
    "        project_data[task]['critical'] = False"
   ]
  },
  {
   "cell_type": "markdown",
   "id": "30692cc1-3ad8-40b2-842c-bc3fc5fb37ba",
   "metadata": {},
   "source": [
    "## Visualization\n",
    "\n",
    "The following code block defines a function to plot a Gantt chart of the project activities, with critical activities indicated in red."
   ]
  },
  {
   "cell_type": "code",
   "execution_count": null,
   "id": "4e961792-ef13-4240-8f3d-435727a9cabb",
   "metadata": {},
   "outputs": [],
   "source": [
    "def make_gantt_chart(project_data_dict, figsize=(8, 3)):\n",
    "\n",
    "    import matplotlib.pyplot as plt\n",
    "    \n",
    "    fig, ax = plt.subplots(1, 1, figsize=figsize)\n",
    "    \n",
    "    for task in project_data_dict:\n",
    "        start_time = project_data_dict[task]['ES']\n",
    "        completion_time = project_data_dict[task]['EF']\n",
    "        length = completion_time - start_time\n",
    "        if project_data_dict[task]['critical']:\n",
    "            task_color='red'\n",
    "        else:\n",
    "            task_color='lightgray'\n",
    "        ax.barh(\n",
    "            task, \n",
    "            length,\n",
    "            left=start_time,\n",
    "            color=task_color,\n",
    "            edgecolor='k',\n",
    "        )\n",
    "        ax.text(\n",
    "            start_time + length/2,\n",
    "            task,\n",
    "            task,\n",
    "            va='center',\n",
    "            ha='center',\n",
    "            color='k',\n",
    "        )\n",
    "    ax.spines[['right', 'top']].set_visible(False)\n",
    "    \n",
    "    ax.set_xlabel('Time')\n",
    "    ax.set_ylabel('Task')\n",
    "    ax.set_title('Gantt Chart')\n",
    "    plt.show()"
   ]
  },
  {
   "cell_type": "markdown",
   "id": "e5c949e1-1ae9-4cd9-93f8-9a8ad97fbc07",
   "metadata": {},
   "source": [
    "The following code block demonstrates the functions use."
   ]
  },
  {
   "cell_type": "code",
   "execution_count": null,
   "id": "2a9f8aa3-57f6-465d-b559-fe761ce9d32c",
   "metadata": {},
   "outputs": [],
   "source": [
    "make_gantt_chart(project_data)"
   ]
  },
  {
   "cell_type": "markdown",
   "id": "e618c836-fd02-4f81-b8f6-d0a7b9c0fd49",
   "metadata": {},
   "source": [
    "## CPM Function\n",
    "\n",
    "The following code block defines a function that executes the CPM end-to-end."
   ]
  },
  {
   "cell_type": "code",
   "execution_count": null,
   "id": "6bd7edca-4397-49c9-b63f-1aed69c082ee",
   "metadata": {},
   "outputs": [],
   "source": [
    "def execute_CPM(\n",
    "    project_data_dict: dict,\n",
    "    start_time: float = 0.0,\n",
    ") -> dict:\n",
    "    import copy\n",
    "\n",
    "    project_data_dict = copy.deepcopy(project_data_dict)\n",
    "\n",
    "    for task in project_data_dict:\n",
    "        project_data_dict[task]['predecessors'] = []\n",
    "    \n",
    "    for task in project_data_dict:\n",
    "        successors = project_data_dict[task]['successors']\n",
    "        for successor in successors:\n",
    "            project_data_dict[successor]['predecessors'].append(task)\n",
    "    \n",
    "    max_time = start_time + sum([val['time'] for val in project_data_dict.values()])\n",
    "    for task in project_data_dict:\n",
    "        project_data_dict[task]['ES'] = 0.0\n",
    "        project_data_dict[task]['EF'] = 0.0\n",
    "        project_data_dict[task]['LS'] = max_time\n",
    "        project_data_dict[task]['LF'] = max_time\n",
    "\n",
    "    # forward pass\n",
    "    unprocessed_tasks = set(project_data_dict.keys())    \n",
    "    while unprocessed_tasks:\n",
    "        processed_tasks = set()\n",
    "        for task in unprocessed_tasks:\n",
    "            predecessors = project_data_dict[task]['predecessors']\n",
    "            if predecessors:\n",
    "                unprocessed_predecessors = set(project_data_dict[task]['predecessors']).intersection(unprocessed_tasks)\n",
    "                if not unprocessed_predecessors:\n",
    "                    max_predecessor_EF = 0\n",
    "                    for predecessor in predecessors:\n",
    "                        if project_data_dict[predecessor]['EF'] > max_predecessor_EF:\n",
    "                            max_predecessor_EF = project_data_dict[predecessor]['EF']\n",
    "                    project_data_dict[task]['ES'] = max_predecessor_EF\n",
    "                    project_data_dict[task]['EF'] = max_predecessor_EF + project_data_dict[task]['time']\n",
    "                    processed_tasks.add(task)\n",
    "            else:\n",
    "                project_data_dict[task]['ES'] = start_time\n",
    "                project_data_dict[task]['EF'] = start_time + project_data_dict[task]['time']\n",
    "                processed_tasks.add(task)\n",
    "\n",
    "        if not processed_tasks:\n",
    "            print(' - Foward pass iteration completed without update. Something is wrong. Check project data')\n",
    "            break\n",
    "        for task in processed_tasks:\n",
    "            unprocessed_tasks.remove(task)\n",
    "    \n",
    "    # project length computation\n",
    "    project_length = 0\n",
    "    for task in project_data_dict:\n",
    "        if project_data_dict[task]['EF'] > project_length:\n",
    "            project_length =  project_data_dict[task]['EF']\n",
    "    \n",
    "    # backward pass\n",
    "    unprocessed_tasks = set(project_data_dict.keys())\n",
    "    while unprocessed_tasks:\n",
    "        processed_tasks = set()\n",
    "        for task in unprocessed_tasks:\n",
    "            successors = project_data_dict[task]['successors']\n",
    "            if successors:\n",
    "                unprocessed_successors = set(project_data_dict[task]['successors']).intersection(unprocessed_tasks)\n",
    "                if not unprocessed_successors:\n",
    "                    min_successor_LS = project_length\n",
    "                    for successor in successors:\n",
    "                        if project_data_dict[successor]['LS'] < min_successor_LS:\n",
    "                            min_successor_LS = project_data_dict[successor]['LS']\n",
    "                    project_data_dict[task]['LF'] = min_successor_LS\n",
    "                    project_data_dict[task]['LS'] = min_successor_LS - project_data_dict[task]['time']\n",
    "                    processed_tasks.add(task)\n",
    "            else:\n",
    "                project_data_dict[task]['LF'] = project_length\n",
    "                project_data_dict[task]['LS'] = project_length - project_data_dict[task]['time']\n",
    "                processed_tasks.add(task)\n",
    "    \n",
    "        if not processed_tasks:\n",
    "            print(' - Backward pass iteration completed without update. Something is wrong. Check project data')\n",
    "            break\n",
    "        for task in processed_tasks:\n",
    "            unprocessed_tasks.remove(task)\n",
    "    \n",
    "    # slack computations\n",
    "    for task in project_data_dict:\n",
    "        project_data_dict[task]['slack'] = project_data_dict[task]['LF'] - project_data_dict[task]['EF']\n",
    "    \n",
    "    # determine critical activities\n",
    "    crticial_activities = []\n",
    "    for task in project_data_dict:\n",
    "        if project_data_dict[task]['slack'] == 0:\n",
    "            project_data_dict[task]['critical'] = True\n",
    "            crticial_activities.append(task)\n",
    "        else:\n",
    "            project_data_dict[task]['critical'] = False\n",
    "\n",
    "    return project_data_dict"
   ]
  },
  {
   "cell_type": "markdown",
   "id": "5319188b-4c5f-4da7-be19-00a1914be007",
   "metadata": {},
   "source": [
    "## End-to-end usage"
   ]
  },
  {
   "cell_type": "code",
   "execution_count": null,
   "id": "8f4f6e88-e27b-4762-88b3-6371fd3a27d3",
   "metadata": {},
   "outputs": [],
   "source": [
    "my_project_data = {\n",
    "    \"A\": {\"time\": 4, \"successors\": [\"C\"]},\n",
    "    \"B\": {\"time\": 3, \"successors\": [\"C\", \"D\"]},\n",
    "    \"C\": {\"time\": 5, \"successors\": [\"E\"]},\n",
    "    \"D\": {\"time\": 5, \"successors\": [\"E\"]},\n",
    "    \"E\": {\"time\": 4, \"successors\": []},\n",
    "}\n",
    "my_project_data = execute_CPM(my_project_data)\n",
    "make_gantt_chart(my_project_data)"
   ]
  },
  {
   "cell_type": "code",
   "execution_count": null,
   "id": "78f7a6d6-8bbd-4eba-85ae-ff58d01b16bc",
   "metadata": {},
   "outputs": [],
   "source": []
  }
 ],
 "metadata": {
  "kernelspec": {
   "display_name": "Python 3 (ipykernel)",
   "language": "python",
   "name": "python3"
  },
  "language_info": {
   "codemirror_mode": {
    "name": "ipython",
    "version": 3
   },
   "file_extension": ".py",
   "mimetype": "text/x-python",
   "name": "python",
   "nbconvert_exporter": "python",
   "pygments_lexer": "ipython3",
   "version": "3.12.4"
  }
 },
 "nbformat": 4,
 "nbformat_minor": 5
}
