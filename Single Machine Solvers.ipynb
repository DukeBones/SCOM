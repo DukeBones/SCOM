{
 "cells": [
  {
   "cell_type": "markdown",
   "id": "dd7fdd7c-ca25-423f-b2a2-ecb8daa9d818",
   "metadata": {},
   "source": [
    "Imports"
   ]
  },
  {
   "cell_type": "code",
   "execution_count": 1,
   "id": "60b11233-06fa-4fb6-8ef3-a4f99e3bb4a6",
   "metadata": {},
   "outputs": [],
   "source": [
    "import pathlib\n",
    "import random\n",
    "\n",
    "import matplotlib.pyplot as plt\n",
    "import numpy as np\n",
    "import pandas as pd\n",
    "import seaborn as sns"
   ]
  },
  {
   "cell_type": "markdown",
   "id": "247d741b-4ce4-47ab-989f-993cef40ef41",
   "metadata": {},
   "source": [
    "Define data directory filepaths and ensure they exist"
   ]
  },
  {
   "cell_type": "code",
   "execution_count": 2,
   "id": "7b4d0005-cebe-4bad-b7b8-6b304b8b4d4d",
   "metadata": {},
   "outputs": [],
   "source": [
    "data_directory = pathlib.Path('data_files/')\n",
    "assert data_directory.exists(), f'Cannot find {data_directory} folder'\n",
    "\n",
    "P1_data_filepath = pathlib.Path(data_directory, 'P1_data.csv')\n",
    "assert P1_data_filepath.exists(), f'Cannot find {P1_data_filepath}'\n",
    "\n",
    "P2_job_data_filepath = pathlib.Path(data_directory, 'P2_job_data.csv')\n",
    "assert P2_job_data_filepath.exists(), f'Cannot find {P2_job_data_filepath}'\n",
    "\n",
    "P2_setup_data_filepath = pathlib.Path(data_directory, 'P2_setup_data.csv')\n",
    "assert P2_setup_data_filepath.exists(), f'Cannot find {P2_setup_data_filepath}'\n",
    "\n",
    "P3_data_filepath = pathlib.Path(data_directory, 'P3_data.csv')\n",
    "assert P3_data_filepath.exists(), f'Cannot find {P3_data_filepath}'"
   ]
  },
  {
   "cell_type": "code",
   "execution_count": 3,
   "id": "3b192793",
   "metadata": {},
   "outputs": [],
   "source": [
    "# Define API Switcher\n",
    "\n",
    "def get_API_neighbor(schedule_list):\n",
    "\n",
    "    neighbor_list = list(schedule_list)\n",
    "    valid_indices = range(len(neighbor_list)-1)\n",
    "    idx1 = random.choice(valid_indices)\n",
    "    idx2 = idx1 + 1\n",
    "\n",
    "    neighbor_list[idx2], neighbor_list[idx1] = neighbor_list[idx1], neighbor_list[idx2]\n",
    "\n",
    "    return neighbor_list"
   ]
  },
  {
   "cell_type": "code",
   "execution_count": 4,
   "id": "a2d62c1e",
   "metadata": {},
   "outputs": [],
   "source": [
    "# Define PI Switcher\n",
    "\n",
    "def get_PI_neighbor(schedule_list):\n",
    "\n",
    "    neighbor_list = list(schedule_list)\n",
    "    valid_indices = list(range(len(neighbor_list)))\n",
    "    idx1, idx2 = random.choices(valid_indices, k=2)\n",
    "\n",
    "    neighbor_list[idx2], neighbor_list[idx1] = neighbor_list[idx1], neighbor_list[idx2]\n",
    "\n",
    "    return neighbor_list"
   ]
  },
  {
   "cell_type": "markdown",
   "id": "760ca1e6-0667-4b57-8193-1941545ced0e",
   "metadata": {},
   "source": [
    "### Problem 1 - $1/s_{j}/\\sum C_{j}$\n",
    "\n",
    "Identify and implement a **static** dispatching rule to generate a good schedule for instance defined in the `P1_data.csv` file. Justify your choice of static dispatching rule.\n",
    "\n",
    "<ins>Grading breakdown</ins>\n",
    "- 15 pts - working algorithm that implements a static dispatching rule\n",
    "- 5 pts - objective function computed correctly and printed to screen\n",
    "- 5 pts - schedule quality meets or exceeds that of best schedule found from random generation of 10,000 schedules."
   ]
  },
  {
   "cell_type": "code",
   "execution_count": 5,
   "id": "f6522be2-aca6-4f69-a5b4-4ca5a977d721",
   "metadata": {
    "scrolled": true
   },
   "outputs": [
    {
     "name": "stdout",
     "output_type": "stream",
     "text": [
      " -At time 3.8000000000000003, schedule job 2\n",
      " -At time 9.9, schedule job 10\n",
      " -At time 16.4, schedule job 6\n",
      " -At time 23.0, schedule job 13\n",
      " -At time 30.0, schedule job 9\n",
      " -At time 37.1, schedule job 7\n",
      " -At time 45.5, schedule job 14\n",
      " -At time 54.1, schedule job 18\n",
      " -At time 62.900000000000006, schedule job 5\n",
      " -At time 72.0, schedule job 16\n",
      " -At time 81.3, schedule job 17\n",
      " -At time 90.89999999999999, schedule job 3\n",
      " -At time 100.8, schedule job 15\n",
      " -At time 111.3, schedule job 19\n",
      " -At time 122.5, schedule job 8\n",
      " -At time 133.7, schedule job 20\n",
      " -At time 145.1, schedule job 1\n",
      " -At time 156.79999999999998, schedule job 4\n",
      " -At time 168.49999999999997, schedule job 11\n",
      " -At time 181.19999999999996, schedule job 12\n",
      "Minimized sum of all completion times is : 1646.7999999999997 units of time\n",
      "For a schedule of [2, 10, 6, 13, 9, 7, 14, 18, 5, 16, 17, 3, 15, 19, 8, 20, 1, 4, 11, 12]\n"
     ]
    }
   ],
   "source": [
    "# Minimize sum of completion times given they have setup times\n",
    "# I used a static rule where I combined the setup time and processing job in order to find the job that completes the fastest.\n",
    "# Since all jobs have to be completed, by scheduling the fastest job first, the minimal sum of completion times can be found. Due to whatever rule in class we called it this is an optimal solution.\n",
    "\n",
    "p1_data = pd.read_csv(P1_data_filepath)\n",
    "p1_data = p1_data.set_index('j')\n",
    "p1_data.head()\n",
    "\n",
    "p1_data['cj'] = ( (p1_data['sj'] + p1_data['pj'] ) ) # Create new column for total time it takes for a job (setup and processing)\n",
    "\n",
    "current_time = 0\n",
    "scheduled_jobs = []\n",
    "all_jobs = p1_data.index.to_list()\n",
    "unscheduled_jobs = set(all_jobs) - set(scheduled_jobs)\n",
    "unscheduled_job_filter = p1_data.index.isin(unscheduled_jobs)\n",
    "unscheduled_job_data = p1_data[unscheduled_job_filter]\n",
    "\n",
    "completion_times = {}\n",
    "\n",
    "\n",
    "while unscheduled_jobs:\n",
    "   \n",
    "    selected_job = unscheduled_job_data['cj'].idxmin() # This picks the job that will complete the fastest\n",
    "    current_time += unscheduled_job_data.loc[selected_job, 'cj']\n",
    "    completion_times[selected_job] = current_time\n",
    "\n",
    "    scheduled_jobs.append(selected_job)\n",
    "    unscheduled_jobs = set(all_jobs) - set(scheduled_jobs)\n",
    "    unscheduled_jobs = list(unscheduled_jobs)\n",
    "\n",
    "    unscheduled_job_filter = p1_data.index.isin(unscheduled_jobs)\n",
    "    unscheduled_job_data = p1_data[unscheduled_job_filter]\n",
    "\n",
    "    print(f' -At time {current_time}, schedule job {selected_job}')\n",
    "\n",
    "print('Minimized sum of all completion times is :',sum(completion_times.values()), 'units of time')\n",
    "print('For a schedule of', scheduled_jobs)\n"
   ]
  },
  {
   "cell_type": "markdown",
   "id": "60c7aea1-d0aa-4c2b-a2bc-c93a30d2fec2",
   "metadata": {},
   "source": [
    "### Problem 2 - $1/s_{jk}/\\sum C_{j}$\n",
    "\n",
    "Implement a construction-improvement approach to solve the problem. Justify any choices you make when developing the approach. The job data is given in the file named `P2_job_data.csv`. The setup time data is given in the file named `P2_setup_data.csv`. Assume that the initial state of the machine is indicated by job 0. Thus, if the first job in the schedule is job $j$, a setup of length $s_{oj}$ is incurred before the first job can start.\n",
    "\n",
    "<ins>Grading breakdown</ins>\n",
    "- 15 pts - working construction algorithm\n",
    "- 20 pts - working improvement algorithm\n",
    "- 5 pts - objective function computed correctly and printed to screen\n",
    "- 10 pts - schedule quality meets or exceeds that of best schedule found from random generation of 100,000 schedules."
   ]
  },
  {
   "cell_type": "code",
   "execution_count": 6,
   "id": "d2608dd7-e910-42ec-8147-b6014f7c9729",
   "metadata": {},
   "outputs": [],
   "source": [
    "# Minimize sum of completion times given they have setup times dependent on prior jobs and use construction improvement\n",
    "\n",
    "p2_job_data = pd.read_csv(P2_job_data_filepath)\n",
    "p2_job_data = p2_job_data.set_index('j')\n",
    "p2_setup_data = pd.read_csv(P2_setup_data_filepath)\n",
    "setup_times = p2_setup_data.set_index(\n",
    "    ['j', 'k']\n",
    ")['sjk'].to_dict()\n",
    "pj2 = p2_job_data['pj'].to_dict()\n",
    "\n",
    "all_jobs = p2_job_data.index.to_list()\n"
   ]
  },
  {
   "cell_type": "code",
   "execution_count": 7,
   "id": "0072bac4-46f3-47db-b47b-3ad4c84ce0b2",
   "metadata": {},
   "outputs": [],
   "source": [
    "# Define completion time calculator\n",
    "\n",
    "def completion_time_calculator(schedule_list):\n",
    "\n",
    "    current_time = 0\n",
    "    calc_completion_times = {}\n",
    "    previous_job = 0\n",
    "\n",
    "    for job in schedule_list:\n",
    "        setup_time = setup_times[previous_job, job]\n",
    "        completion_time = current_time + setup_time + pj2[job] # This calculates the time the job finishes based on the setup time from the previoous job to this one and adds the processing time of the job\n",
    "        #print('Current Time',current_time, 'setup_time',setup_times[previous_job, job], 'pj', pj[job])\n",
    "\n",
    "        calc_completion_times[job] = completion_time\n",
    "\n",
    "        current_time = completion_time\n",
    "        #print(previous_job, job, setup_time, pj2[job])\n",
    "        #print(job,(setup_time+pj2[job]) )\n",
    "        previous_job = job\n",
    "        \n",
    "\n",
    "    return( sum(calc_completion_times.values()) )\n",
    "    #return(calc_completion_times)"
   ]
  },
  {
   "cell_type": "code",
   "execution_count": 8,
   "id": "6e9e770b",
   "metadata": {},
   "outputs": [
    {
     "name": "stdout",
     "output_type": "stream",
     "text": [
      " -At time 0, schedule job 17\n",
      " -At time 8.73, schedule job 3\n",
      " -At time 18.64, schedule job 10\n",
      " -At time 29.29, schedule job 6\n",
      " -At time 40.85, schedule job 4\n",
      " -At time 51.83, schedule job 13\n",
      " -At time 61.9, schedule job 9\n",
      " -At time 72.91, schedule job 18\n",
      " -At time 85.17999999999999, schedule job 20\n",
      " -At time 96.02, schedule job 2\n",
      " -At time 108.44999999999999, schedule job 5\n",
      " -At time 120.68999999999998, schedule job 8\n",
      " -At time 132.91, schedule job 7\n",
      " -At time 144.44, schedule job 15\n",
      " -At time 155.9, schedule job 11\n",
      " -At time 167.77, schedule job 16\n",
      " -At time 183.66000000000003, schedule job 14\n",
      " -At time 196.72000000000003, schedule job 1\n",
      " -At time 210.38000000000002, schedule job 19\n",
      " -At time 225.35000000000002, schedule job 12\n",
      "Minimum completion time is: 2351.38 units of time\n",
      "For a schedule of [17, 3, 10, 6, 4, 13, 9, 18, 20, 2, 5, 8, 7, 15, 11, 16, 14, 1, 19, 12]\n"
     ]
    }
   ],
   "source": [
    "current_time = 0\n",
    "previous_job = 0\n",
    "scheduled_jobs = []\n",
    "\n",
    "all_jobs = p2_job_data.index.to_list()\n",
    "\n",
    "unscheduled_jobs = set(all_jobs) - set(scheduled_jobs)\n",
    "unscheduled_job_filter = p2_job_data.index.isin(unscheduled_jobs)\n",
    "unscheduled_job_data = p2_job_data[unscheduled_job_filter]\n",
    "\n",
    "completion_times = {}\n",
    "\n",
    "while unscheduled_jobs:\n",
    "\n",
    "    unscheduled_jobs = set(all_jobs) - set(scheduled_jobs)\n",
    "    unscheduled_job_filter = p2_job_data.index.isin(unscheduled_jobs)\n",
    "    unscheduled_job_data = p2_job_data[unscheduled_job_filter]\n",
    "\n",
    "    for job in range(1,len(p2_job_data)+1):\n",
    "        setup_time = setup_times[previous_job, job]\n",
    "        p2_job_data.loc[job,'sj'] = setup_time\n",
    "    \n",
    "    p2_job_data['runTime'] = p2_job_data['sj'] + p2_job_data['pj']\n",
    "\n",
    "    unscheduled_job_filter = p2_job_data.index.isin(unscheduled_jobs)\n",
    "    unscheduled_job_data = p2_job_data[unscheduled_job_filter]\n",
    "    #print(unscheduled_job_data)\n",
    "    selected_job = unscheduled_job_data['runTime'].idxmin() # This picks the job that will complete the fastest\n",
    "    print(f' -At time {current_time}, schedule job {selected_job}')\n",
    "    #print('Current Time',current_time, 'run time', unscheduled_job_data.loc[selected_job,'runTime'])\n",
    "    run_time = unscheduled_job_data.loc[selected_job, 'runTime']\n",
    "\n",
    "    current_time += run_time\n",
    "    #print(setup_times[previous_job, job])\n",
    "    completion_times[selected_job] = current_time\n",
    "\n",
    "    scheduled_jobs.append(selected_job)\n",
    "    previous_job = selected_job\n",
    "\n",
    "    unscheduled_jobs = set(all_jobs) - set(scheduled_jobs)\n",
    "    unscheduled_job_filter = p2_job_data.index.isin(unscheduled_jobs)\n",
    "    unscheduled_job_data = p2_job_data[unscheduled_job_filter]\n",
    "\n",
    "construction_time = completion_time_calculator(scheduled_jobs)\n",
    "print('Minimum completion time is:', construction_time, 'units of time')\n",
    "print('For a schedule of', scheduled_jobs)"
   ]
  },
  {
   "cell_type": "code",
   "execution_count": 9,
   "id": "53018a41",
   "metadata": {},
   "outputs": [
    {
     "name": "stdout",
     "output_type": "stream",
     "text": [
      "Minimum completion time is: 2351.38 units of time\n",
      "For a schedule of [17, 3, 10, 6, 4, 13, 9, 18, 20, 2, 5, 8, 7, 15, 11, 16, 14, 1, 19, 12]\n"
     ]
    }
   ],
   "source": [
    "# Run API switching for 1000000 nonimproving iterations.\n",
    "\n",
    "np.random.seed(0)\n",
    "max_ni_iterations = 1000000\n",
    "\n",
    "incumbent_solution = (scheduled_jobs) # Setting this to all_jobs instead of scheduled_jobs will run the improvement algortihm for jobs if you start at 1 and run in order until 20\n",
    "incumbent_completion_time = completion_time_calculator(incumbent_solution)\n",
    "\n",
    "iteration = 0\n",
    "count = 0\n",
    "progress = []\n",
    "while iteration < max_ni_iterations:\n",
    "    iteration += 1\n",
    "    count += 1\n",
    "    \n",
    "    neighbor = get_PI_neighbor(incumbent_solution)\n",
    "    neighbor_completion_time = completion_time_calculator(neighbor)\n",
    "    #print('incumbent_max_lateness:', incumbent_max_lateness)\n",
    "    #print('neighbor_max_lateness:', neighbor_max_lateness)\n",
    "    if neighbor_completion_time < incumbent_completion_time:\n",
    "        incumbent_solution = neighbor\n",
    "        incumbent_completion_time = neighbor_completion_time\n",
    "        iteration = 0\n",
    "    progress.append({'Iteration': count, 'Best': incumbent_completion_time})\n",
    "\n",
    "print('Minimum completion time is:', incumbent_completion_time, 'units of time')\n",
    "print('For a schedule of', incumbent_solution)\n",
    "\n",
    "# Best solution I found by running this block many times was 2323.52 units of time\n",
    "# For a schedule of [9, 17, 5, 3, 16, 13, 4, 6, 18, 2, 20, 11, 10, 15, 7, 14, 8, 19, 12, 1]"
   ]
  },
  {
   "cell_type": "code",
   "execution_count": 10,
   "id": "ff3af8e7",
   "metadata": {},
   "outputs": [
    {
     "data": {
      "text/plain": [
       "2323.5200000000004"
      ]
     },
     "execution_count": 10,
     "metadata": {},
     "output_type": "execute_result"
    }
   ],
   "source": [
    "completion_time_calculator([9, 17, 5, 3, 16, 13, 4, 6, 18, 2, 20, 11, 10, 15, 7, 14, 8, 19, 12, 1])\n",
    "# Proof that the mentioned best solution so far runs at this time."
   ]
  },
  {
   "cell_type": "code",
   "execution_count": 11,
   "id": "f9fb7e28",
   "metadata": {},
   "outputs": [
    {
     "data": {
      "image/png": "[encoded data removed]",
      "text/plain": [
       "<Figure size 800x300 with 1 Axes>"
      ]
     },
     "metadata": {},
     "output_type": "display_data"
    }
   ],
   "source": [
    "# Generate graph of trials\n",
    "\n",
    "fig, ax = plt.subplots(1, 1, figsize=(8, 3))\n",
    "\n",
    "progress_df = pd.DataFrame(progress)\n",
    "progress_df.plot(\n",
    "    x='Iteration',\n",
    "    y='Best',\n",
    "    ax=ax,\n",
    ")\n",
    "\n",
    "ax.spines[['right', 'top']].set_visible(False)\n",
    "plt.show()"
   ]
  },
  {
   "cell_type": "markdown",
   "id": "639c5ece-56c2-4339-ba54-0fa989b91a50",
   "metadata": {},
   "source": [
    "### Problem 3 - $1/s_{j}, r_{j}/L_{max}$\n",
    "\n",
    "Identify and implement a **dynamic** dispatching rule to generate a good schedule for instance defined in the `P3_data.csv` file. Justify your choice of dynamic dispatching rule.\n",
    "\n",
    "<ins>Grading breakdown</ins>\n",
    "- 15 pts - working algorithm that implements a dynamic dispatching rule\n",
    "- 5 pts - objective function computed correctly and printed to screen\n",
    "- 5 pts - schedule quality meets or exceeds that of best schedule found from random generation of 10,000 schedules."
   ]
  },
  {
   "cell_type": "code",
   "execution_count": 12,
   "id": "11672305",
   "metadata": {},
   "outputs": [],
   "source": [
    "p3_data = pd.read_csv(P3_data_filepath)\n",
    "p3_data = p3_data.set_index('j')"
   ]
  },
  {
   "cell_type": "code",
   "execution_count": 17,
   "id": "55a00e0f-1405-4f9f-9650-608d35ab1ebc",
   "metadata": {},
   "outputs": [
    {
     "name": "stdout",
     "output_type": "stream",
     "text": [
      " -At time 0, there are no jobs to schedule\n",
      " -At time 12.6, schedule job 18\n",
      " -At time 19.1, schedule job 6\n",
      " -At time 25.200000000000003, schedule job 10\n",
      " -At time 35.1, schedule job 15\n",
      " -At time 46.3, schedule job 8\n",
      " -At time 55.599999999999994, schedule job 17\n",
      " -At time 66.1, schedule job 19\n",
      " -At time 73.1, schedule job 9\n",
      " -At time 76.89999999999999, schedule job 2\n",
      " -At time 83.99999999999999, schedule job 7\n",
      " -At time 93.59999999999998, schedule job 3\n",
      " -At time 102.69999999999999, schedule job 16\n",
      " -At time 111.1, schedule job 14\n",
      " -At time 117.69999999999999, schedule job 13\n",
      " -At time 129.39999999999998, schedule job 4\n",
      " -At time 140.79999999999998, schedule job 1\n",
      " -At time 153.49999999999997, schedule job 12\n",
      " -At time 164.69999999999996, schedule job 20\n",
      " -At time 176.39999999999995, schedule job 11\n",
      " -At time 185.19999999999996, schedule job 5\n",
      "Maximum Lateness is: 99.39999999999995 units of time\n",
      "For a schedule of: [18, 6, 10, 15, 8, 17, 19, 9, 2, 7, 3, 16, 14, 13, 4, 1, 12, 20, 11, 5]\n"
     ]
    }
   ],
   "source": [
    "# Minimize worst case lateness time given they have setup times and release times\n",
    "# My method was to calculate the lateness of a job at any given time that would occur when it is done being setup and run\n",
    "# By then choosing to run the job that would be the most late upon completiong at that time we should get a pretty good solution\n",
    "\n",
    "current_time = 0\n",
    "scheduled_jobs = []\n",
    "all_jobs = p3_data.index.to_list()\n",
    "lateness_times = {}\n",
    "completion_times = {}\n",
    "\n",
    "p3_data['cj'] = ( (p3_data['sj'] + p3_data['pj'] ) ) # Calculate time to setup and process job\n",
    "p3_data['L'] = (current_time + (p3_data['cj'] - p3_data['dj'] )) # This calculates the lateness of the jobs based on current time\n",
    "\n",
    "unscheduled_jobs = set(all_jobs) - set(scheduled_jobs)\n",
    "unscheduled_job_filter = p3_data.index.isin(unscheduled_jobs)\n",
    "unscheduled_job_data = p3_data[unscheduled_job_filter]\n",
    "\n",
    "\n",
    "while unscheduled_jobs:\n",
    "\n",
    "    time_filter = unscheduled_job_data['rj'] <= current_time\n",
    "           \n",
    "\n",
    "    if len(unscheduled_job_data[time_filter]) == 0:\n",
    "        \n",
    "        print(f' -At time {current_time}, there are no jobs to schedule')\n",
    "        current_time += p3_data['rj'].min()\n",
    "\n",
    "    else:\n",
    "\n",
    "        p3_data['L'] = (current_time + (p3_data['cj'] - p3_data['dj'] )) # This calculates the lateness of the jobs based on current time\n",
    "        selected_job = unscheduled_job_data['L'].idxmax() # This picks the job that will be the most late and runs it.\n",
    "        current_time += unscheduled_job_data.loc[selected_job, 'cj']\n",
    "        completion_times[selected_job] = current_time\n",
    "        lateness_times[selected_job] = current_time - p3_data.loc[selected_job, 'dj']\n",
    "\n",
    "        scheduled_jobs.append(selected_job)\n",
    "        unscheduled_jobs = set(all_jobs) - set(scheduled_jobs)\n",
    "        unscheduled_jobs = list(unscheduled_jobs)\n",
    "\n",
    "        unscheduled_job_filter = p3_data.index.isin(unscheduled_jobs)\n",
    "        unscheduled_job_data = p3_data[unscheduled_job_filter]\n",
    "\n",
    "        print(f' -At time {current_time}, schedule job {selected_job}')\n",
    "\n",
    "#print(lateness_times)\n",
    "print('Maximum Lateness is:', max(lateness_times.values()), 'units of time'  )\n",
    "print('For a schedule of:', scheduled_jobs)\n",
    "#print(lateness_times)"
   ]
  },
  {
   "cell_type": "code",
   "execution_count": 14,
   "id": "f662218d",
   "metadata": {},
   "outputs": [],
   "source": [
    "# Define a function to compute the max lateness times\n",
    "\n",
    "def compute_max_lateness_time(schedule_list):\n",
    "\n",
    "    current_time = 0\n",
    "    lateness_times = {}\n",
    "    \n",
    "    for job in schedule_list:\n",
    "        \n",
    "        completion_time = current_time + cj[job]\n",
    "        lateness_times[job] = completion_time  - dj[job]\n",
    "        current_time = completion_time\n",
    "        #print(lateness_times)\n",
    "        \n",
    "    return max(lateness_times.values())\n"
   ]
  },
  {
   "cell_type": "code",
   "execution_count": 15,
   "id": "b21c1dea",
   "metadata": {},
   "outputs": [
    {
     "name": "stdout",
     "output_type": "stream",
     "text": [
      " Maximum Lateness is: 95.39999999999992 units of time\n",
      "For a schedule of [18, 6, 10, 15, 8, 17, 19, 9, 2, 7, 3, 16, 14, 13, 4, 1, 12, 20, 11, 5]\n"
     ]
    }
   ],
   "source": [
    "# Run API switching for 10000 nonimproving iterations.\n",
    "cj = p3_data['cj'].to_dict()\n",
    "dj = p3_data['dj'].to_dict()\n",
    "\n",
    "np.random.seed(0)\n",
    "max_ni_iterations = 10000\n",
    "\n",
    "incumbent_solution = list(lateness_times.keys())\n",
    "incumbent_max_lateness = compute_max_lateness_time(incumbent_solution)\n",
    "\n",
    "iteration = 0\n",
    "count = 0\n",
    "progress = []\n",
    "while iteration < max_ni_iterations:\n",
    "    iteration += 1\n",
    "    count += 1\n",
    "    \n",
    "    neighbor = get_API_neighbor(incumbent_solution)\n",
    "    neighbor_max_lateness= compute_max_lateness_time(neighbor)\n",
    "    #print('incumbent_max_lateness:', incumbent_max_lateness)\n",
    "    #print('neighbor_max_lateness:', neighbor_max_lateness)\n",
    "    if neighbor_max_lateness < incumbent_max_lateness:\n",
    "        incumbent_solution = neighbor\n",
    "        incumbent_max_lateness = neighbor_max_lateness\n",
    "        iteration = 0\n",
    "    progress.append({'Iteration': count, 'Best': incumbent_max_lateness})\n",
    "\n",
    "\n",
    "\n",
    "print(' Maximum Lateness is:', incumbent_max_lateness, 'units of time'  )\n",
    "print('For a schedule of', scheduled_jobs)\n",
    "#print(lateness_times)\n",
    "\n",
    "# This API switch shows that after 2000 iterations our solution does not improve at all\n",
    "# All that work for nuthin :("
   ]
  },
  {
   "cell_type": "code",
   "execution_count": 16,
   "id": "f736573e",
   "metadata": {},
   "outputs": [
    {
     "data": {
      "image/png": "[encoded data removed]",
      "text/plain": [
       "<Figure size 800x300 with 1 Axes>"
      ]
     },
     "metadata": {},
     "output_type": "display_data"
    }
   ],
   "source": [
    "# Generate graph of trials just to check\n",
    "\n",
    "fig, ax = plt.subplots(1, 1, figsize=(8, 3))\n",
    "\n",
    "progress_df = pd.DataFrame(progress)\n",
    "progress_df.plot(\n",
    "    x='Iteration',\n",
    "    y='Best',\n",
    "    ax=ax,\n",
    ")\n",
    "\n",
    "ax.spines[['right', 'top']].set_visible(False)\n",
    "plt.show()"
   ]
  }
 ],
 "metadata": {
  "kernelspec": {
   "display_name": "Python 3 (ipykernel)",
   "language": "python",
   "name": "python3"
  },
  "language_info": {
   "codemirror_mode": {
    "name": "ipython",
    "version": 3
   },
   "file_extension": ".py",
   "mimetype": "text/x-python",
   "name": "python",
   "nbconvert_exporter": "python",
   "pygments_lexer": "ipython3",
   "version": "3.12.3"
  }
 },
 "nbformat": 4,
 "nbformat_minor": 5
}
